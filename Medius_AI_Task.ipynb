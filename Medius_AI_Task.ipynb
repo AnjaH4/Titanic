{
  "cells": [
    {
      "cell_type": "markdown",
      "metadata": {
        "id": "JFzgfBEJX4G0"
      },
      "source": [
        "# Medius AI Task\n",
        "## Task\n",
        "Given the titanic dataset (imported from seaborn library) analyze the data and create a model for predicting whether a person survived or not (column alive).\n",
        "You can add new libraries and additional cells if needed.\n",
        "\n",
        "The final version of colab needs to execute all cells without any error when ran with `Run all` command."
      ]
    },
    {
      "cell_type": "markdown",
      "metadata": {
        "id": "0-0k_k9ODfV6"
      },
      "source": [
        "## Additinal dependency installation and imports\n",
        "Install any additional dependencies and import them in the cells below."
      ]
    },
    {
      "cell_type": "code",
      "execution_count": 107,
      "metadata": {
        "id": "vIJPPaaMDoiz"
      },
      "outputs": [],
      "source": [
        "import pandas as pd\n",
        "import seaborn as sns\n",
        "import matplotlib.pyplot as plt\n",
        "import numpy as np\n",
        "import missingno as msno\n",
        "import scipy.stats\n",
        "# Imports for data analysis and model construction"
      ]
    },
    {
      "cell_type": "markdown",
      "metadata": {
        "id": "nzfrq-IAD-wS"
      },
      "source": [
        "## Data exploration and clean up\n",
        "Explore the data (column types, data distribution, ...) and clean it (handle missing data, invalid data, ...)"
      ]
    },
    {
      "cell_type": "markdown",
      "metadata": {},
      "source": [
        "First, let's look at the dataset, what features there are and what are their possible values."
      ]
    },
    {
      "cell_type": "code",
      "execution_count": 108,
      "metadata": {
        "colab": {
          "base_uri": "https://localhost:8080/"
        },
        "id": "yITntWP1EDY8",
        "outputId": "6f1b68bb-3ea8-4055-8013-dcc5da2a4c99"
      },
      "outputs": [],
      "source": [
        "df = sns.load_dataset('titanic') # dataset"
      ]
    },
    {
      "cell_type": "code",
      "execution_count": 109,
      "metadata": {},
      "outputs": [
        {
          "data": {
            "text/html": [
              "<div>\n",
              "<style scoped>\n",
              "    .dataframe tbody tr th:only-of-type {\n",
              "        vertical-align: middle;\n",
              "    }\n",
              "\n",
              "    .dataframe tbody tr th {\n",
              "        vertical-align: top;\n",
              "    }\n",
              "\n",
              "    .dataframe thead th {\n",
              "        text-align: right;\n",
              "    }\n",
              "</style>\n",
              "<table border=\"1\" class=\"dataframe\">\n",
              "  <thead>\n",
              "    <tr style=\"text-align: right;\">\n",
              "      <th></th>\n",
              "      <th>survived</th>\n",
              "      <th>pclass</th>\n",
              "      <th>sex</th>\n",
              "      <th>age</th>\n",
              "      <th>sibsp</th>\n",
              "      <th>parch</th>\n",
              "      <th>fare</th>\n",
              "      <th>embarked</th>\n",
              "      <th>class</th>\n",
              "      <th>who</th>\n",
              "      <th>adult_male</th>\n",
              "      <th>deck</th>\n",
              "      <th>embark_town</th>\n",
              "      <th>alive</th>\n",
              "      <th>alone</th>\n",
              "    </tr>\n",
              "  </thead>\n",
              "  <tbody>\n",
              "    <tr>\n",
              "      <th>0</th>\n",
              "      <td>0</td>\n",
              "      <td>3</td>\n",
              "      <td>male</td>\n",
              "      <td>22.0</td>\n",
              "      <td>1</td>\n",
              "      <td>0</td>\n",
              "      <td>7.2500</td>\n",
              "      <td>S</td>\n",
              "      <td>Third</td>\n",
              "      <td>man</td>\n",
              "      <td>True</td>\n",
              "      <td>NaN</td>\n",
              "      <td>Southampton</td>\n",
              "      <td>no</td>\n",
              "      <td>False</td>\n",
              "    </tr>\n",
              "    <tr>\n",
              "      <th>1</th>\n",
              "      <td>1</td>\n",
              "      <td>1</td>\n",
              "      <td>female</td>\n",
              "      <td>38.0</td>\n",
              "      <td>1</td>\n",
              "      <td>0</td>\n",
              "      <td>71.2833</td>\n",
              "      <td>C</td>\n",
              "      <td>First</td>\n",
              "      <td>woman</td>\n",
              "      <td>False</td>\n",
              "      <td>C</td>\n",
              "      <td>Cherbourg</td>\n",
              "      <td>yes</td>\n",
              "      <td>False</td>\n",
              "    </tr>\n",
              "    <tr>\n",
              "      <th>2</th>\n",
              "      <td>1</td>\n",
              "      <td>3</td>\n",
              "      <td>female</td>\n",
              "      <td>26.0</td>\n",
              "      <td>0</td>\n",
              "      <td>0</td>\n",
              "      <td>7.9250</td>\n",
              "      <td>S</td>\n",
              "      <td>Third</td>\n",
              "      <td>woman</td>\n",
              "      <td>False</td>\n",
              "      <td>NaN</td>\n",
              "      <td>Southampton</td>\n",
              "      <td>yes</td>\n",
              "      <td>True</td>\n",
              "    </tr>\n",
              "    <tr>\n",
              "      <th>3</th>\n",
              "      <td>1</td>\n",
              "      <td>1</td>\n",
              "      <td>female</td>\n",
              "      <td>35.0</td>\n",
              "      <td>1</td>\n",
              "      <td>0</td>\n",
              "      <td>53.1000</td>\n",
              "      <td>S</td>\n",
              "      <td>First</td>\n",
              "      <td>woman</td>\n",
              "      <td>False</td>\n",
              "      <td>C</td>\n",
              "      <td>Southampton</td>\n",
              "      <td>yes</td>\n",
              "      <td>False</td>\n",
              "    </tr>\n",
              "    <tr>\n",
              "      <th>4</th>\n",
              "      <td>0</td>\n",
              "      <td>3</td>\n",
              "      <td>male</td>\n",
              "      <td>35.0</td>\n",
              "      <td>0</td>\n",
              "      <td>0</td>\n",
              "      <td>8.0500</td>\n",
              "      <td>S</td>\n",
              "      <td>Third</td>\n",
              "      <td>man</td>\n",
              "      <td>True</td>\n",
              "      <td>NaN</td>\n",
              "      <td>Southampton</td>\n",
              "      <td>no</td>\n",
              "      <td>True</td>\n",
              "    </tr>\n",
              "  </tbody>\n",
              "</table>\n",
              "</div>"
            ],
            "text/plain": [
              "   survived  pclass     sex   age  sibsp  parch     fare embarked  class  \\\n",
              "0         0       3    male  22.0      1      0   7.2500        S  Third   \n",
              "1         1       1  female  38.0      1      0  71.2833        C  First   \n",
              "2         1       3  female  26.0      0      0   7.9250        S  Third   \n",
              "3         1       1  female  35.0      1      0  53.1000        S  First   \n",
              "4         0       3    male  35.0      0      0   8.0500        S  Third   \n",
              "\n",
              "     who  adult_male deck  embark_town alive  alone  \n",
              "0    man        True  NaN  Southampton    no  False  \n",
              "1  woman       False    C    Cherbourg   yes  False  \n",
              "2  woman       False  NaN  Southampton   yes   True  \n",
              "3  woman       False    C  Southampton   yes  False  \n",
              "4    man        True  NaN  Southampton    no   True  "
            ]
          },
          "execution_count": 109,
          "metadata": {},
          "output_type": "execute_result"
        }
      ],
      "source": [
        "df.head()"
      ]
    },
    {
      "cell_type": "code",
      "execution_count": 110,
      "metadata": {},
      "outputs": [
        {
          "data": {
            "text/html": [
              "<div>\n",
              "<style scoped>\n",
              "    .dataframe tbody tr th:only-of-type {\n",
              "        vertical-align: middle;\n",
              "    }\n",
              "\n",
              "    .dataframe tbody tr th {\n",
              "        vertical-align: top;\n",
              "    }\n",
              "\n",
              "    .dataframe thead th {\n",
              "        text-align: right;\n",
              "    }\n",
              "</style>\n",
              "<table border=\"1\" class=\"dataframe\">\n",
              "  <thead>\n",
              "    <tr style=\"text-align: right;\">\n",
              "      <th></th>\n",
              "      <th>survived</th>\n",
              "      <th>pclass</th>\n",
              "      <th>age</th>\n",
              "      <th>sibsp</th>\n",
              "      <th>parch</th>\n",
              "      <th>fare</th>\n",
              "    </tr>\n",
              "  </thead>\n",
              "  <tbody>\n",
              "    <tr>\n",
              "      <th>count</th>\n",
              "      <td>891.000000</td>\n",
              "      <td>891.000000</td>\n",
              "      <td>714.000000</td>\n",
              "      <td>891.000000</td>\n",
              "      <td>891.000000</td>\n",
              "      <td>891.000000</td>\n",
              "    </tr>\n",
              "    <tr>\n",
              "      <th>mean</th>\n",
              "      <td>0.383838</td>\n",
              "      <td>2.308642</td>\n",
              "      <td>29.699118</td>\n",
              "      <td>0.523008</td>\n",
              "      <td>0.381594</td>\n",
              "      <td>32.204208</td>\n",
              "    </tr>\n",
              "    <tr>\n",
              "      <th>std</th>\n",
              "      <td>0.486592</td>\n",
              "      <td>0.836071</td>\n",
              "      <td>14.526497</td>\n",
              "      <td>1.102743</td>\n",
              "      <td>0.806057</td>\n",
              "      <td>49.693429</td>\n",
              "    </tr>\n",
              "    <tr>\n",
              "      <th>min</th>\n",
              "      <td>0.000000</td>\n",
              "      <td>1.000000</td>\n",
              "      <td>0.420000</td>\n",
              "      <td>0.000000</td>\n",
              "      <td>0.000000</td>\n",
              "      <td>0.000000</td>\n",
              "    </tr>\n",
              "    <tr>\n",
              "      <th>25%</th>\n",
              "      <td>0.000000</td>\n",
              "      <td>2.000000</td>\n",
              "      <td>20.125000</td>\n",
              "      <td>0.000000</td>\n",
              "      <td>0.000000</td>\n",
              "      <td>7.910400</td>\n",
              "    </tr>\n",
              "    <tr>\n",
              "      <th>50%</th>\n",
              "      <td>0.000000</td>\n",
              "      <td>3.000000</td>\n",
              "      <td>28.000000</td>\n",
              "      <td>0.000000</td>\n",
              "      <td>0.000000</td>\n",
              "      <td>14.454200</td>\n",
              "    </tr>\n",
              "    <tr>\n",
              "      <th>75%</th>\n",
              "      <td>1.000000</td>\n",
              "      <td>3.000000</td>\n",
              "      <td>38.000000</td>\n",
              "      <td>1.000000</td>\n",
              "      <td>0.000000</td>\n",
              "      <td>31.000000</td>\n",
              "    </tr>\n",
              "    <tr>\n",
              "      <th>max</th>\n",
              "      <td>1.000000</td>\n",
              "      <td>3.000000</td>\n",
              "      <td>80.000000</td>\n",
              "      <td>8.000000</td>\n",
              "      <td>6.000000</td>\n",
              "      <td>512.329200</td>\n",
              "    </tr>\n",
              "  </tbody>\n",
              "</table>\n",
              "</div>"
            ],
            "text/plain": [
              "         survived      pclass         age       sibsp       parch        fare\n",
              "count  891.000000  891.000000  714.000000  891.000000  891.000000  891.000000\n",
              "mean     0.383838    2.308642   29.699118    0.523008    0.381594   32.204208\n",
              "std      0.486592    0.836071   14.526497    1.102743    0.806057   49.693429\n",
              "min      0.000000    1.000000    0.420000    0.000000    0.000000    0.000000\n",
              "25%      0.000000    2.000000   20.125000    0.000000    0.000000    7.910400\n",
              "50%      0.000000    3.000000   28.000000    0.000000    0.000000   14.454200\n",
              "75%      1.000000    3.000000   38.000000    1.000000    0.000000   31.000000\n",
              "max      1.000000    3.000000   80.000000    8.000000    6.000000  512.329200"
            ]
          },
          "execution_count": 110,
          "metadata": {},
          "output_type": "execute_result"
        }
      ],
      "source": [
        "df.describe()"
      ]
    },
    {
      "cell_type": "code",
      "execution_count": 111,
      "metadata": {},
      "outputs": [
        {
          "name": "stdout",
          "output_type": "stream",
          "text": [
            "sex ['male' 'female']\n",
            "embarked ['S' 'C' 'Q' nan]\n",
            "who ['man' 'woman' 'child']\n",
            "embark_town ['Southampton' 'Cherbourg' 'Queenstown' nan]\n",
            "alive ['no' 'yes']\n"
          ]
        }
      ],
      "source": [
        "#get unique values of each categorical column and range of each numerical column\n",
        "#get categorical columns and binary columns\n",
        "cat_cols = df.select_dtypes(include=['object']).columns\n",
        "# get unique values of each categorical column\n",
        "for col in cat_cols:\n",
        "    print(col, df[col].unique())"
      ]
    },
    {
      "cell_type": "code",
      "execution_count": 126,
      "metadata": {},
      "outputs": [
        {
          "name": "stderr",
          "output_type": "stream",
          "text": [
            "/tmp/ipykernel_100049/2006734140.py:3: FutureWarning: Downcasting behavior in `replace` is deprecated and will be removed in a future version. To retain the old behavior, explicitly call `result.infer_objects(copy=False)`. To opt-in to the future behavior, set `pd.set_option('future.no_silent_downcasting', True)`\n",
            "  df['alive'] = df['alive'].replace('no', 0).replace('yes', 1)\n"
          ]
        },
        {
          "data": {
            "text/plain": [
              "True"
            ]
          },
          "execution_count": 126,
          "metadata": {},
          "output_type": "execute_result"
        }
      ],
      "source": [
        "#are survived and alive columns the same?\n",
        "#change no to 0 and yes to 1\n",
        "df['alive'] = df['alive'].replace('no', 0).replace('yes', 1)\n",
        "(df['survived'] == df['alive']).all()"
      ]
    },
    {
      "cell_type": "code",
      "execution_count": 138,
      "metadata": {},
      "outputs": [
        {
          "name": "stderr",
          "output_type": "stream",
          "text": [
            "/tmp/ipykernel_100049/1930385774.py:1: FutureWarning: The behavior of Series.replace (and DataFrame.replace) with CategoricalDtype is deprecated. In a future version, replace will only be used for cases that preserve the categories. To change the categories, use ser.cat.rename_categories instead.\n",
            "  df['class'] = df['class'].replace('First', 1).replace('Second', 2).replace('Third', 3)\n",
            "/tmp/ipykernel_100049/1930385774.py:1: FutureWarning: Downcasting behavior in `replace` is deprecated and will be removed in a future version. To retain the old behavior, explicitly call `result.infer_objects(copy=False)`. To opt-in to the future behavior, set `pd.set_option('future.no_silent_downcasting', True)`\n",
            "  df['class'] = df['class'].replace('First', 1).replace('Second', 2).replace('Third', 3)\n",
            "/tmp/ipykernel_100049/1930385774.py:1: FutureWarning: The behavior of Series.replace (and DataFrame.replace) with CategoricalDtype is deprecated. In a future version, replace will only be used for cases that preserve the categories. To change the categories, use ser.cat.rename_categories instead.\n",
            "  df['class'] = df['class'].replace('First', 1).replace('Second', 2).replace('Third', 3)\n"
          ]
        },
        {
          "data": {
            "text/plain": [
              "True"
            ]
          },
          "execution_count": 138,
          "metadata": {},
          "output_type": "execute_result"
        }
      ],
      "source": [
        "df['class'] = df['class'].replace('First', 1).replace('Second', 2).replace('Third', 3)\n",
        "(df['pclass'] == df['class']).all()\n",
        "\n",
        "#class and pclass are the same!"
      ]
    },
    {
      "cell_type": "code",
      "execution_count": 145,
      "metadata": {},
      "outputs": [
        {
          "data": {
            "text/plain": [
              "15.0"
            ]
          },
          "execution_count": 145,
          "metadata": {},
          "output_type": "execute_result"
        }
      ],
      "source": [
        "#get max value of age in df[~a]\n",
        "df[~a]['age'].max()\n",
        "#child is up to 15 years old \n",
        "\n",
        "#--> age + sex is enough (childer only up to 15 years old)"
      ]
    },
    {
      "cell_type": "code",
      "execution_count": 139,
      "metadata": {},
      "outputs": [],
      "source": [
        "df['embarked'] = df['embarked'].replace('C', 'Cherbourg').replace('Q', 'Queenstown').replace('S', 'Southampton')\n",
        "b = (df['embarked'] == df['embark_town'])"
      ]
    },
    {
      "cell_type": "code",
      "execution_count": 131,
      "metadata": {},
      "outputs": [
        {
          "data": {
            "text/html": [
              "<div>\n",
              "<style scoped>\n",
              "    .dataframe tbody tr th:only-of-type {\n",
              "        vertical-align: middle;\n",
              "    }\n",
              "\n",
              "    .dataframe tbody tr th {\n",
              "        vertical-align: top;\n",
              "    }\n",
              "\n",
              "    .dataframe thead th {\n",
              "        text-align: right;\n",
              "    }\n",
              "</style>\n",
              "<table border=\"1\" class=\"dataframe\">\n",
              "  <thead>\n",
              "    <tr style=\"text-align: right;\">\n",
              "      <th></th>\n",
              "      <th>survived</th>\n",
              "      <th>pclass</th>\n",
              "      <th>sex</th>\n",
              "      <th>age</th>\n",
              "      <th>sibsp</th>\n",
              "      <th>parch</th>\n",
              "      <th>fare</th>\n",
              "      <th>embarked</th>\n",
              "      <th>class</th>\n",
              "      <th>who</th>\n",
              "      <th>adult_male</th>\n",
              "      <th>deck</th>\n",
              "      <th>embark_town</th>\n",
              "      <th>alive</th>\n",
              "      <th>alone</th>\n",
              "    </tr>\n",
              "  </thead>\n",
              "  <tbody>\n",
              "    <tr>\n",
              "      <th>61</th>\n",
              "      <td>1</td>\n",
              "      <td>1</td>\n",
              "      <td>female</td>\n",
              "      <td>38.0</td>\n",
              "      <td>0</td>\n",
              "      <td>0</td>\n",
              "      <td>80.0</td>\n",
              "      <td>NaN</td>\n",
              "      <td>1</td>\n",
              "      <td>woman</td>\n",
              "      <td>False</td>\n",
              "      <td>B</td>\n",
              "      <td>NaN</td>\n",
              "      <td>1</td>\n",
              "      <td>True</td>\n",
              "    </tr>\n",
              "    <tr>\n",
              "      <th>829</th>\n",
              "      <td>1</td>\n",
              "      <td>1</td>\n",
              "      <td>female</td>\n",
              "      <td>62.0</td>\n",
              "      <td>0</td>\n",
              "      <td>0</td>\n",
              "      <td>80.0</td>\n",
              "      <td>NaN</td>\n",
              "      <td>1</td>\n",
              "      <td>woman</td>\n",
              "      <td>False</td>\n",
              "      <td>B</td>\n",
              "      <td>NaN</td>\n",
              "      <td>1</td>\n",
              "      <td>True</td>\n",
              "    </tr>\n",
              "  </tbody>\n",
              "</table>\n",
              "</div>"
            ],
            "text/plain": [
              "     survived  pclass     sex   age  sibsp  parch  fare embarked class    who  \\\n",
              "61          1       1  female  38.0      0      0  80.0      NaN     1  woman   \n",
              "829         1       1  female  62.0      0      0  80.0      NaN     1  woman   \n",
              "\n",
              "     adult_male deck embark_town  alive  alone  \n",
              "61        False    B         NaN      1   True  \n",
              "829       False    B         NaN      1   True  "
            ]
          },
          "execution_count": 131,
          "metadata": {},
          "output_type": "execute_result"
        }
      ],
      "source": [
        "df[~b]\n",
        "\n",
        "#embarked and embark_town are the same!"
      ]
    },
    {
      "cell_type": "code",
      "execution_count": 140,
      "metadata": {},
      "outputs": [
        {
          "data": {
            "text/plain": [
              "True"
            ]
          },
          "execution_count": 140,
          "metadata": {},
          "output_type": "execute_result"
        }
      ],
      "source": [
        "#check if 0 in parch and in sibsp means true in alone\n",
        "(df['alone'] == ((df['parch'] == 0) & (df['sibsp'] == 0))).all()\n",
        "\n",
        "#alone is redundant feature"
      ]
    },
    {
      "cell_type": "markdown",
      "metadata": {},
      "source": [
        "We can see there are some duplicated and some redundant columns in the dataset. \n",
        "\n",
        "Identicall features:\n",
        "- embarked & embark_town\n",
        "- survived & alive\n",
        "- pclass & class\n",
        "\n",
        "Redundant features:\n",
        "- alone: if columns sibsp (number of siblings and spouses travelling with the passenger) and parch (number of children and parents with the passenger) are both 0, the value in alone column will be Ture, and False otherwise. \n",
        "- adult male: will be False for children and women, this information is also included in column who, which has possible values woman, man, child."
      ]
    },
    {
      "cell_type": "markdown",
      "metadata": {},
      "source": [
        "Let's look at how features influence survival."
      ]
    },
    {
      "cell_type": "code",
      "execution_count": 144,
      "metadata": {},
      "outputs": [
        {
          "data": {
            "image/png": "[encoded data removed]",
            "text/plain": [
              "<Figure size 1500x1000 with 6 Axes>"
            ]
          },
          "metadata": {},
          "output_type": "display_data"
        }
      ],
      "source": [
        "#plots of features in relation to survived\n",
        "fig, axs = plt.subplots(2, 3, figsize=(15, 10))\n",
        "\n",
        "# The color palette\n",
        "colors = {'no': '#f1a340', 'yes': '#998ec3'}\n",
        "\n",
        "\n",
        "sns.countplot(x='pclass', hue='alive', data=df, ax=axs[0, 0], palette=colors)\n",
        "sns.countplot(x='sibsp', hue='alive', data=df, ax=axs[0, 1], palette=colors)\n",
        "sns.countplot(x='parch', hue='alive', data=df, ax=axs[0, 2], palette=colors)\n",
        "sns.countplot(x='embarked', hue='alive', data=df, ax=axs[1, 0], palette=colors)\n",
        "sns.countplot(x='who', hue='alive', data=df, ax=axs[1, 1], palette=colors)\n",
        "sns.histplot(x='age', hue='alive', data=df, ax=axs[1, 2], palette=colors)\n",
        "#sns.histplot(x='fare', hue='alive', data=df, ax=axs[2, 0], palette=colors)\n",
        "plt.savefig('countplots.png')\n",
        "\n",
        "\n",
        "plt.show()\n",
        "\n"
      ]
    },
    {
      "cell_type": "code",
      "execution_count": 172,
      "metadata": {},
      "outputs": [
        {
          "data": {
            "text/plain": [
              "<Axes: xlabel='fare', ylabel='Count'>"
            ]
          },
          "execution_count": 172,
          "metadata": {},
          "output_type": "execute_result"
        },
        {
          "data": {
            "image/png": "[encoded data removed]",
            "text/plain": [
              "<Figure size 640x480 with 1 Axes>"
            ]
          },
          "metadata": {},
          "output_type": "display_data"
        }
      ],
      "source": [
        "sns.histplot(x='fare', hue='alive', data=df, palette=colors, bins=30)"
      ]
    },
    {
      "cell_type": "markdown",
      "metadata": {},
      "source": [
        "At the first glance our expectation is that sex and wether the passenger is a child have a lot of influence on the survival. Additionally, The class the passenger was travelling in also visibly influences the survival. We can see the fare has some influence on  the survival as well but it is also correlated to passenger class so it makes sense."
      ]
    },
    {
      "cell_type": "markdown",
      "metadata": {},
      "source": [
        "#### Missing values and duplicated rows:"
      ]
    },
    {
      "cell_type": "code",
      "execution_count": 175,
      "metadata": {},
      "outputs": [
        {
          "name": "stdout",
          "output_type": "stream",
          "text": [
            "     survived  pclass     sex    age  sibsp  parch     fare     embarked  \\\n",
            "47          1       3  female    NaN      0      0   7.7500   Queenstown   \n",
            "76          0       3    male    NaN      0      0   7.8958  Southampton   \n",
            "77          0       3    male    NaN      0      0   8.0500  Southampton   \n",
            "133         1       2  female  29.00      1      0  26.0000  Southampton   \n",
            "173         0       3    male  21.00      0      0   7.9250  Southampton   \n",
            "196         0       3    male    NaN      0      0   7.7500   Queenstown   \n",
            "201         0       3    male    NaN      8      2  69.5500  Southampton   \n",
            "213         0       2    male  30.00      0      0  13.0000  Southampton   \n",
            "241         1       3  female    NaN      1      0  15.5000   Queenstown   \n",
            "295         0       1    male    NaN      0      0  27.7208    Cherbourg   \n",
            "313         0       3    male  28.00      0      0   7.8958  Southampton   \n",
            "320         0       3    male  22.00      0      0   7.2500  Southampton   \n",
            "343         0       2    male  25.00      0      0  13.0000  Southampton   \n",
            "354         0       3    male    NaN      0      0   7.2250    Cherbourg   \n",
            "355         0       3    male  28.00      0      0   9.5000  Southampton   \n",
            "358         1       3  female    NaN      0      0   7.8792   Queenstown   \n",
            "364         0       3    male    NaN      1      0  15.5000   Queenstown   \n",
            "409         0       3  female    NaN      3      1  25.4667  Southampton   \n",
            "413         0       2    male    NaN      0      0   0.0000  Southampton   \n",
            "420         0       3    male    NaN      0      0   7.8958    Cherbourg   \n",
            "425         0       3    male    NaN      0      0   7.2500  Southampton   \n",
            "431         1       3  female    NaN      1      0  16.1000  Southampton   \n",
            "476         0       2    male  34.00      1      0  21.0000  Southampton   \n",
            "488         0       3    male  30.00      0      0   8.0500  Southampton   \n",
            "490         0       3    male    NaN      1      0  19.9667  Southampton   \n",
            "494         0       3    male  21.00      0      0   8.0500  Southampton   \n",
            "500         0       3    male  17.00      0      0   8.6625  Southampton   \n",
            "521         0       3    male  22.00      0      0   7.8958  Southampton   \n",
            "526         1       2  female  50.00      0      0  10.5000  Southampton   \n",
            "531         0       3    male    NaN      0      0   7.2292    Cherbourg   \n",
            "564         0       3  female    NaN      0      0   8.0500  Southampton   \n",
            "588         0       3    male  22.00      0      0   8.0500  Southampton   \n",
            "614         0       3    male  35.00      0      0   8.0500  Southampton   \n",
            "635         1       2  female  28.00      0      0  13.0000  Southampton   \n",
            "636         0       3    male  32.00      0      0   7.9250  Southampton   \n",
            "640         0       3    male  20.00      0      0   7.8542  Southampton   \n",
            "641         1       1  female  24.00      0      0  69.3000    Cherbourg   \n",
            "644         1       3  female   0.75      2      1  19.2583    Cherbourg   \n",
            "646         0       3    male  19.00      0      0   7.8958  Southampton   \n",
            "692         1       3    male    NaN      0      0  56.4958  Southampton   \n",
            "696         0       3    male  44.00      0      0   8.0500  Southampton   \n",
            "709         1       3    male    NaN      1      1  15.2458    Cherbourg   \n",
            "733         0       2    male  23.00      0      0  13.0000  Southampton   \n",
            "757         0       2    male  18.00      0      0  11.5000  Southampton   \n",
            "758         0       3    male  34.00      0      0   8.0500  Southampton   \n",
            "760         0       3    male    NaN      0      0  14.5000  Southampton   \n",
            "792         0       3  female    NaN      8      2  69.5500  Southampton   \n",
            "800         0       2    male  34.00      0      0  13.0000  Southampton   \n",
            "808         0       2    male  39.00      0      0  13.0000  Southampton   \n",
            "838         1       3    male  32.00      0      0  56.4958  Southampton   \n",
            "870         0       3    male  26.00      0      0   7.8958  Southampton   \n",
            "884         0       3    male  25.00      0      0   7.0500  Southampton   \n",
            "886         0       2    male  27.00      0      0  13.0000  Southampton   \n",
            "\n",
            "    class    who  adult_male deck  embark_town alive  alone  \n",
            "47      3  woman       False  NaN   Queenstown   yes   True  \n",
            "76      3    man        True  NaN  Southampton    no   True  \n",
            "77      3    man        True  NaN  Southampton    no   True  \n",
            "133     2  woman       False  NaN  Southampton   yes  False  \n",
            "173     3    man        True  NaN  Southampton    no   True  \n",
            "196     3    man        True  NaN   Queenstown    no   True  \n",
            "201     3    man        True  NaN  Southampton    no  False  \n",
            "213     2    man        True  NaN  Southampton    no   True  \n",
            "241     3  woman       False  NaN   Queenstown   yes  False  \n",
            "295     1    man        True  NaN    Cherbourg    no   True  \n",
            "313     3    man        True  NaN  Southampton    no   True  \n",
            "320     3    man        True  NaN  Southampton    no   True  \n",
            "343     2    man        True  NaN  Southampton    no   True  \n",
            "354     3    man        True  NaN    Cherbourg    no   True  \n",
            "355     3    man        True  NaN  Southampton    no   True  \n",
            "358     3  woman       False  NaN   Queenstown   yes   True  \n",
            "364     3    man        True  NaN   Queenstown    no  False  \n",
            "409     3  woman       False  NaN  Southampton    no  False  \n",
            "413     2    man        True  NaN  Southampton    no   True  \n",
            "420     3    man        True  NaN    Cherbourg    no   True  \n",
            "425     3    man        True  NaN  Southampton    no   True  \n",
            "431     3  woman       False  NaN  Southampton   yes  False  \n",
            "476     2    man        True  NaN  Southampton    no  False  \n",
            "488     3    man        True  NaN  Southampton    no   True  \n",
            "490     3    man        True  NaN  Southampton    no  False  \n",
            "494     3    man        True  NaN  Southampton    no   True  \n",
            "500     3    man        True  NaN  Southampton    no   True  \n",
            "521     3    man        True  NaN  Southampton    no   True  \n",
            "526     2  woman       False  NaN  Southampton   yes   True  \n",
            "531     3    man        True  NaN    Cherbourg    no   True  \n",
            "564     3  woman       False  NaN  Southampton    no   True  \n",
            "588     3    man        True  NaN  Southampton    no   True  \n",
            "614     3    man        True  NaN  Southampton    no   True  \n",
            "635     2  woman       False  NaN  Southampton   yes   True  \n",
            "636     3    man        True  NaN  Southampton    no   True  \n",
            "640     3    man        True  NaN  Southampton    no   True  \n",
            "641     1  woman       False    B    Cherbourg   yes   True  \n",
            "644     3  child       False  NaN    Cherbourg   yes  False  \n",
            "646     3    man        True  NaN  Southampton    no   True  \n",
            "692     3    man        True  NaN  Southampton   yes   True  \n",
            "696     3    man        True  NaN  Southampton    no   True  \n",
            "709     3    man        True  NaN    Cherbourg   yes  False  \n",
            "733     2    man        True  NaN  Southampton    no   True  \n",
            "757     2    man        True  NaN  Southampton    no   True  \n",
            "758     3    man        True  NaN  Southampton    no   True  \n",
            "760     3    man        True  NaN  Southampton    no   True  \n",
            "792     3  woman       False  NaN  Southampton    no  False  \n",
            "800     2    man        True  NaN  Southampton    no   True  \n",
            "808     2    man        True  NaN  Southampton    no   True  \n",
            "838     3    man        True  NaN  Southampton   yes   True  \n",
            "870     3    man        True  NaN  Southampton    no   True  \n",
            "884     3    man        True  NaN  Southampton    no   True  \n",
            "886     2    man        True  NaN  Southampton    no   True   53\n"
          ]
        }
      ],
      "source": [
        "duplicated_rows = df[df.duplicated()]\n",
        "unique_duplicated_rows = duplicated_rows.drop_duplicates()\n",
        "\n",
        "# Display the unique duplicated rows\n",
        "print(unique_duplicated_rows)"
      ]
    },
    {
      "cell_type": "code",
      "execution_count": 176,
      "metadata": {},
      "outputs": [
        {
          "data": {
            "text/plain": [
              "107"
            ]
          },
          "execution_count": 176,
          "metadata": {},
          "output_type": "execute_result"
        }
      ],
      "source": [
        "len(duplicated_rows)"
      ]
    },
    {
      "cell_type": "code",
      "execution_count": 174,
      "metadata": {},
      "outputs": [
        {
          "name": "stdout",
          "output_type": "stream",
          "text": [
            "percentage of rows with nan values: survived       0.000000\n",
            "pclass         0.000000\n",
            "sex            0.000000\n",
            "age            0.415094\n",
            "sibsp          0.000000\n",
            "parch          0.000000\n",
            "fare           0.000000\n",
            "embarked       0.000000\n",
            "class          0.000000\n",
            "who            0.000000\n",
            "adult_male     0.000000\n",
            "deck           0.981132\n",
            "embark_town    0.000000\n",
            "alive          0.000000\n",
            "alone          0.000000\n",
            "dtype: float64\n"
          ]
        }
      ],
      "source": [
        "print(f\"percentage of rows with nan values: {unique_duplicated_rows.isna().sum() / len(unique_duplicated_rows)}\")"
      ]
    },
    {
      "cell_type": "markdown",
      "metadata": {},
      "source": [
        "There are 107 duplicated rows. When further inspecting the duplicated rows we see that 41.5 % of duplicated rows has missing age column and 98.1 % duplicated rows have missing deck column. If these values would be available there would probably not be so many duplicated rows. "
      ]
    },
    {
      "cell_type": "code",
      "execution_count": 6,
      "metadata": {},
      "outputs": [
        {
          "data": {
            "text/plain": [
              "survived       0.000000\n",
              "pclass         0.000000\n",
              "sex            0.000000\n",
              "age            0.198653\n",
              "sibsp          0.000000\n",
              "parch          0.000000\n",
              "fare           0.000000\n",
              "embarked       0.002245\n",
              "class          0.000000\n",
              "who            0.000000\n",
              "adult_male     0.000000\n",
              "deck           0.772166\n",
              "embark_town    0.002245\n",
              "alive          0.000000\n",
              "alone          0.000000\n",
              "dtype: float64"
            ]
          },
          "execution_count": 6,
          "metadata": {},
          "output_type": "execute_result"
        }
      ],
      "source": [
        "#check for missing values\n",
        "df.isnull().sum()/len(df)"
      ]
    },
    {
      "cell_type": "markdown",
      "metadata": {},
      "source": [
        "There are missing values in columns age (19.87%), embarked (0.22%), embark_town (0.22%), and deck (77.22%). There is so little missing values in embarked and embark_town that they can be ignored. To decide what to do with the missing values in columns age and deck we have to further inspect them."
      ]
    },
    {
      "cell_type": "code",
      "execution_count": 9,
      "metadata": {},
      "outputs": [
        {
          "data": {
            "text/plain": [
              "Text(0.5, 1.0, 'Missing Data')"
            ]
          },
          "execution_count": 9,
          "metadata": {},
          "output_type": "execute_result"
        },
        {
          "data": {
            "image/png": "[encoded data removed]",
            "text/plain": [
              "<Figure size 640x480 with 1 Axes>"
            ]
          },
          "metadata": {},
          "output_type": "display_data"
        }
      ],
      "source": [
        "sns.heatmap(df.isnull(),yticklabels=False,cbar=False,cmap='viridis')\n",
        "plt.title('Missing Data')"
      ]
    },
    {
      "cell_type": "markdown",
      "metadata": {},
      "source": [
        "We can't really see any pattern regarding the missing values with the heatmap.\n",
        "\n",
        "Since our target variable is survival status of the passenger let's look at the distribution of missing values for deck column in regard to survival."
      ]
    },
    {
      "cell_type": "code",
      "execution_count": 199,
      "metadata": {},
      "outputs": [
        {
          "data": {
            "text/plain": [
              "<Axes: xlabel='deck', ylabel='count'>"
            ]
          },
          "execution_count": 199,
          "metadata": {},
          "output_type": "execute_result"
        },
        {
          "data": {
            "image/png": "[encoded data removed]",
            "text/plain": [
              "<Figure size 640x480 with 1 Axes>"
            ]
          },
          "metadata": {},
          "output_type": "display_data"
        }
      ],
      "source": [
        "#plot deck vs survived\n",
        "sns.countplot(x='deck', hue='alive', data=df, palette=colors)"
      ]
    },
    {
      "cell_type": "code",
      "execution_count": 195,
      "metadata": {},
      "outputs": [
        {
          "name": "stderr",
          "output_type": "stream",
          "text": [
            "/tmp/ipykernel_100049/1660410676.py:12: FutureWarning: \n",
            "\n",
            "Passing `palette` without assigning `hue` is deprecated and will be removed in v0.14.0. Assign the `x` variable to `hue` and set `legend=False` for the same effect.\n",
            "\n",
            "  sns.countplot(x='alive', data=deck_nan, palette=custom_palette, stat='percent')\n",
            "/tmp/ipykernel_100049/1660410676.py:18: FutureWarning: \n",
            "\n",
            "Passing `palette` without assigning `hue` is deprecated and will be removed in v0.14.0. Assign the `x` variable to `hue` and set `legend=False` for the same effect.\n",
            "\n",
            "  sns.countplot(x='alive', data=df, palette=custom_palette, stat='percent')\n"
          ]
        },
        {
          "data": {
            "image/png": "[encoded data removed]",
            "text/plain": [
              "<Figure size 640x480 with 2 Axes>"
            ]
          },
          "metadata": {},
          "output_type": "display_data"
        },
        {
          "name": "stdout",
          "output_type": "stream",
          "text": [
            "Counts of survived and not survived with NaN in 'deck':\n",
            "alive\n",
            "no     482\n",
            "yes    206\n",
            "Name: count, dtype: int64\n",
            "\n",
            "Counts of survived and not survived in entire dataset:\n",
            "alive\n",
            "no     549\n",
            "yes    342\n",
            "Name: count, dtype: int64\n"
          ]
        }
      ],
      "source": [
        "# Get rows with NaN in 'deck'\n",
        "deck_nan = df[df['deck'].isnull()]\n",
        "\n",
        "\n",
        "custom_palette = {'yes': '#998ec3', 'no': '#f1a340'}\n",
        "\n",
        "# Countplot for 'alive' in subset with NaN in 'deck'\n",
        "plt.subplot(1, 2, 1)\n",
        "sns.countplot(x='alive', data=deck_nan, palette=custom_palette, stat='percent')\n",
        "plt.ylim(0, 100)  \n",
        "plt.title(\"Subset with NaN in 'deck'\")\n",
        "\n",
        "# Countplot for 'alive' in entire dataset\n",
        "plt.subplot(1, 2, 2)\n",
        "sns.countplot(x='alive', data=df, palette=custom_palette, stat='percent')\n",
        "plt.ylim(0, 100)  \n",
        "plt.title(\"Entire Dataset\")\n",
        "\n",
        "plt.tight_layout()\n",
        "plt.show()\n",
        "\n",
        "print(\"Counts of survived and not survived with NaN in 'deck':\")\n",
        "print(deck_nan['alive'].value_counts())\n",
        "\n",
        "print(\"\\nCounts of survived and not survived in entire dataset:\")\n",
        "print(df['alive'].value_counts())\n"
      ]
    },
    {
      "cell_type": "markdown",
      "metadata": {},
      "source": [
        "We can see that the rows where deck values are not nan are more frequent for surviving passengers. Class and deck might be correlated features as each class might be located on a speciffic deck."
      ]
    },
    {
      "cell_type": "code",
      "execution_count": 20,
      "metadata": {},
      "outputs": [],
      "source": [
        "#change column deck to factor\n",
        "df[\"deck\"] = df[\"deck\"].astype('category')\n"
      ]
    },
    {
      "cell_type": "code",
      "execution_count": 46,
      "metadata": {},
      "outputs": [],
      "source": [
        "#change all non numerical columns to factor\n",
        "for col in df.columns:\n",
        "    if df[col].dtype == 'object':\n",
        "        df[col] = df[col].astype('category')"
      ]
    },
    {
      "cell_type": "code",
      "execution_count": 219,
      "metadata": {},
      "outputs": [
        {
          "name": "stdout",
          "output_type": "stream",
          "text": [
            "missing values in column 'deck' per passenger class: pclass\n",
            "1     41\n",
            "2    168\n",
            "3    479\n",
            "Name: deck, dtype: int64\n"
          ]
        },
        {
          "data": {
            "image/png": "[encoded data removed]",
            "text/plain": [
              "<Figure size 640x480 with 1 Axes>"
            ]
          },
          "metadata": {},
          "output_type": "display_data"
        }
      ],
      "source": [
        "\n",
        "colors = ['#b35806',  '#fee0b6', '#d8daeb', '#8073ac', '#f1a340', '#542788', '#b2abd2']\n",
        "\n",
        "# Count missing values in column 'deck' per class in column 'pclass'\n",
        "cn_class = df.groupby('pclass')['deck'].apply(lambda x: x.isnull().sum())\n",
        "print(f\"missing values in column 'deck' per passenger class: {cn_class}\")\n",
        "\n",
        "# Plot missing values in column 'deck' per class in column 'pclass' bar plot\n",
        "sns.countplot(x='pclass', data=df, hue='deck', palette=colors)\n",
        "plt.title(\"Missing Values in 'deck' per Passenger Class\")\n",
        "plt.xlabel(\"Passenger Class\")\n",
        "plt.ylabel(\"Count\")\n",
        "plt.legend(title='Deck', bbox_to_anchor=(1.05, 1), loc='upper left')\n",
        "\n",
        "plt.tight_layout()\n",
        "plt.show()\n"
      ]
    },
    {
      "cell_type": "markdown",
      "metadata": {},
      "source": [
        "Values in column deck are present mostly for the first class passengers. These values still bring some information so we will not discard them.  "
      ]
    },
    {
      "cell_type": "code",
      "execution_count": 47,
      "metadata": {},
      "outputs": [],
      "source": [
        "#one hot encode categorical variables\n",
        "df_dummies = pd.get_dummies(df, drop_first=True)"
      ]
    },
    {
      "cell_type": "code",
      "execution_count": 50,
      "metadata": {},
      "outputs": [
        {
          "data": {
            "text/html": [
              "<div>\n",
              "<style scoped>\n",
              "    .dataframe tbody tr th:only-of-type {\n",
              "        vertical-align: middle;\n",
              "    }\n",
              "\n",
              "    .dataframe tbody tr th {\n",
              "        vertical-align: top;\n",
              "    }\n",
              "\n",
              "    .dataframe thead th {\n",
              "        text-align: right;\n",
              "    }\n",
              "</style>\n",
              "<table border=\"1\" class=\"dataframe\">\n",
              "  <thead>\n",
              "    <tr style=\"text-align: right;\">\n",
              "      <th></th>\n",
              "      <th>survived</th>\n",
              "      <th>pclass</th>\n",
              "      <th>sex</th>\n",
              "      <th>age</th>\n",
              "      <th>sibsp</th>\n",
              "      <th>parch</th>\n",
              "      <th>fare</th>\n",
              "      <th>embarked</th>\n",
              "      <th>class</th>\n",
              "      <th>who</th>\n",
              "      <th>adult_male</th>\n",
              "      <th>deck</th>\n",
              "      <th>embark_town</th>\n",
              "      <th>alive</th>\n",
              "      <th>alone</th>\n",
              "    </tr>\n",
              "  </thead>\n",
              "  <tbody>\n",
              "    <tr>\n",
              "      <th>0</th>\n",
              "      <td>0</td>\n",
              "      <td>3</td>\n",
              "      <td>male</td>\n",
              "      <td>22.0</td>\n",
              "      <td>1</td>\n",
              "      <td>0</td>\n",
              "      <td>7.2500</td>\n",
              "      <td>S</td>\n",
              "      <td>Third</td>\n",
              "      <td>man</td>\n",
              "      <td>True</td>\n",
              "      <td>NaN</td>\n",
              "      <td>Southampton</td>\n",
              "      <td>no</td>\n",
              "      <td>False</td>\n",
              "    </tr>\n",
              "    <tr>\n",
              "      <th>1</th>\n",
              "      <td>1</td>\n",
              "      <td>1</td>\n",
              "      <td>female</td>\n",
              "      <td>38.0</td>\n",
              "      <td>1</td>\n",
              "      <td>0</td>\n",
              "      <td>71.2833</td>\n",
              "      <td>C</td>\n",
              "      <td>First</td>\n",
              "      <td>woman</td>\n",
              "      <td>False</td>\n",
              "      <td>C</td>\n",
              "      <td>Cherbourg</td>\n",
              "      <td>yes</td>\n",
              "      <td>False</td>\n",
              "    </tr>\n",
              "    <tr>\n",
              "      <th>2</th>\n",
              "      <td>1</td>\n",
              "      <td>3</td>\n",
              "      <td>female</td>\n",
              "      <td>26.0</td>\n",
              "      <td>0</td>\n",
              "      <td>0</td>\n",
              "      <td>7.9250</td>\n",
              "      <td>S</td>\n",
              "      <td>Third</td>\n",
              "      <td>woman</td>\n",
              "      <td>False</td>\n",
              "      <td>NaN</td>\n",
              "      <td>Southampton</td>\n",
              "      <td>yes</td>\n",
              "      <td>True</td>\n",
              "    </tr>\n",
              "    <tr>\n",
              "      <th>3</th>\n",
              "      <td>1</td>\n",
              "      <td>1</td>\n",
              "      <td>female</td>\n",
              "      <td>35.0</td>\n",
              "      <td>1</td>\n",
              "      <td>0</td>\n",
              "      <td>53.1000</td>\n",
              "      <td>S</td>\n",
              "      <td>First</td>\n",
              "      <td>woman</td>\n",
              "      <td>False</td>\n",
              "      <td>C</td>\n",
              "      <td>Southampton</td>\n",
              "      <td>yes</td>\n",
              "      <td>False</td>\n",
              "    </tr>\n",
              "    <tr>\n",
              "      <th>4</th>\n",
              "      <td>0</td>\n",
              "      <td>3</td>\n",
              "      <td>male</td>\n",
              "      <td>35.0</td>\n",
              "      <td>0</td>\n",
              "      <td>0</td>\n",
              "      <td>8.0500</td>\n",
              "      <td>S</td>\n",
              "      <td>Third</td>\n",
              "      <td>man</td>\n",
              "      <td>True</td>\n",
              "      <td>NaN</td>\n",
              "      <td>Southampton</td>\n",
              "      <td>no</td>\n",
              "      <td>True</td>\n",
              "    </tr>\n",
              "    <tr>\n",
              "      <th>...</th>\n",
              "      <td>...</td>\n",
              "      <td>...</td>\n",
              "      <td>...</td>\n",
              "      <td>...</td>\n",
              "      <td>...</td>\n",
              "      <td>...</td>\n",
              "      <td>...</td>\n",
              "      <td>...</td>\n",
              "      <td>...</td>\n",
              "      <td>...</td>\n",
              "      <td>...</td>\n",
              "      <td>...</td>\n",
              "      <td>...</td>\n",
              "      <td>...</td>\n",
              "      <td>...</td>\n",
              "    </tr>\n",
              "    <tr>\n",
              "      <th>886</th>\n",
              "      <td>0</td>\n",
              "      <td>2</td>\n",
              "      <td>male</td>\n",
              "      <td>27.0</td>\n",
              "      <td>0</td>\n",
              "      <td>0</td>\n",
              "      <td>13.0000</td>\n",
              "      <td>S</td>\n",
              "      <td>Second</td>\n",
              "      <td>man</td>\n",
              "      <td>True</td>\n",
              "      <td>NaN</td>\n",
              "      <td>Southampton</td>\n",
              "      <td>no</td>\n",
              "      <td>True</td>\n",
              "    </tr>\n",
              "    <tr>\n",
              "      <th>887</th>\n",
              "      <td>1</td>\n",
              "      <td>1</td>\n",
              "      <td>female</td>\n",
              "      <td>19.0</td>\n",
              "      <td>0</td>\n",
              "      <td>0</td>\n",
              "      <td>30.0000</td>\n",
              "      <td>S</td>\n",
              "      <td>First</td>\n",
              "      <td>woman</td>\n",
              "      <td>False</td>\n",
              "      <td>B</td>\n",
              "      <td>Southampton</td>\n",
              "      <td>yes</td>\n",
              "      <td>True</td>\n",
              "    </tr>\n",
              "    <tr>\n",
              "      <th>888</th>\n",
              "      <td>0</td>\n",
              "      <td>3</td>\n",
              "      <td>female</td>\n",
              "      <td>NaN</td>\n",
              "      <td>1</td>\n",
              "      <td>2</td>\n",
              "      <td>23.4500</td>\n",
              "      <td>S</td>\n",
              "      <td>Third</td>\n",
              "      <td>woman</td>\n",
              "      <td>False</td>\n",
              "      <td>NaN</td>\n",
              "      <td>Southampton</td>\n",
              "      <td>no</td>\n",
              "      <td>False</td>\n",
              "    </tr>\n",
              "    <tr>\n",
              "      <th>889</th>\n",
              "      <td>1</td>\n",
              "      <td>1</td>\n",
              "      <td>male</td>\n",
              "      <td>26.0</td>\n",
              "      <td>0</td>\n",
              "      <td>0</td>\n",
              "      <td>30.0000</td>\n",
              "      <td>C</td>\n",
              "      <td>First</td>\n",
              "      <td>man</td>\n",
              "      <td>True</td>\n",
              "      <td>C</td>\n",
              "      <td>Cherbourg</td>\n",
              "      <td>yes</td>\n",
              "      <td>True</td>\n",
              "    </tr>\n",
              "    <tr>\n",
              "      <th>890</th>\n",
              "      <td>0</td>\n",
              "      <td>3</td>\n",
              "      <td>male</td>\n",
              "      <td>32.0</td>\n",
              "      <td>0</td>\n",
              "      <td>0</td>\n",
              "      <td>7.7500</td>\n",
              "      <td>Q</td>\n",
              "      <td>Third</td>\n",
              "      <td>man</td>\n",
              "      <td>True</td>\n",
              "      <td>NaN</td>\n",
              "      <td>Queenstown</td>\n",
              "      <td>no</td>\n",
              "      <td>True</td>\n",
              "    </tr>\n",
              "  </tbody>\n",
              "</table>\n",
              "<p>891 rows × 15 columns</p>\n",
              "</div>"
            ],
            "text/plain": [
              "     survived  pclass     sex   age  sibsp  parch     fare embarked   class  \\\n",
              "0           0       3    male  22.0      1      0   7.2500        S   Third   \n",
              "1           1       1  female  38.0      1      0  71.2833        C   First   \n",
              "2           1       3  female  26.0      0      0   7.9250        S   Third   \n",
              "3           1       1  female  35.0      1      0  53.1000        S   First   \n",
              "4           0       3    male  35.0      0      0   8.0500        S   Third   \n",
              "..        ...     ...     ...   ...    ...    ...      ...      ...     ...   \n",
              "886         0       2    male  27.0      0      0  13.0000        S  Second   \n",
              "887         1       1  female  19.0      0      0  30.0000        S   First   \n",
              "888         0       3  female   NaN      1      2  23.4500        S   Third   \n",
              "889         1       1    male  26.0      0      0  30.0000        C   First   \n",
              "890         0       3    male  32.0      0      0   7.7500        Q   Third   \n",
              "\n",
              "       who  adult_male deck  embark_town alive  alone  \n",
              "0      man        True  NaN  Southampton    no  False  \n",
              "1    woman       False    C    Cherbourg   yes  False  \n",
              "2    woman       False  NaN  Southampton   yes   True  \n",
              "3    woman       False    C  Southampton   yes  False  \n",
              "4      man        True  NaN  Southampton    no   True  \n",
              "..     ...         ...  ...          ...   ...    ...  \n",
              "886    man        True  NaN  Southampton    no   True  \n",
              "887  woman       False    B  Southampton   yes   True  \n",
              "888  woman       False  NaN  Southampton    no  False  \n",
              "889    man        True    C    Cherbourg   yes   True  \n",
              "890    man        True  NaN   Queenstown    no   True  \n",
              "\n",
              "[891 rows x 15 columns]"
            ]
          },
          "execution_count": 50,
          "metadata": {},
          "output_type": "execute_result"
        }
      ],
      "source": [
        "df"
      ]
    },
    {
      "cell_type": "code",
      "execution_count": 203,
      "metadata": {},
      "outputs": [
        {
          "name": "stderr",
          "output_type": "stream",
          "text": [
            "/tmp/ipykernel_100049/2008080416.py:9: FutureWarning: \n",
            "\n",
            "Passing `palette` without assigning `hue` is deprecated and will be removed in v0.14.0. Assign the `x` variable to `hue` and set `legend=False` for the same effect.\n",
            "\n",
            "  sns.countplot(x='alive', data=age_nan, palette=custom_palette, stat='percent')\n",
            "/tmp/ipykernel_100049/2008080416.py:15: FutureWarning: \n",
            "\n",
            "Passing `palette` without assigning `hue` is deprecated and will be removed in v0.14.0. Assign the `x` variable to `hue` and set `legend=False` for the same effect.\n",
            "\n",
            "  sns.countplot(x='alive', data=df, palette=custom_palette, stat='percent')\n"
          ]
        },
        {
          "data": {
            "image/png": "[encoded data removed]",
            "text/plain": [
              "<Figure size 640x480 with 2 Axes>"
            ]
          },
          "metadata": {},
          "output_type": "display_data"
        },
        {
          "name": "stdout",
          "output_type": "stream",
          "text": [
            "Counts of survived and not survived with NaN in 'age':\n",
            "alive\n",
            "no     125\n",
            "yes     52\n",
            "Name: count, dtype: int64\n",
            "\n",
            "Counts of survived and not survived in entire dataset:\n",
            "alive\n",
            "no     549\n",
            "yes    342\n",
            "Name: count, dtype: int64\n"
          ]
        }
      ],
      "source": [
        "age_nan = df[df['age'].isnull()]\n",
        "\n",
        "\n",
        "custom_palette = {'yes': '#998ec3', 'no': '#f1a340'}\n",
        "\n",
        "# Countplot for 'alive' in subset with NaN in 'age'\n",
        "plt.subplot(1, 2, 1)\n",
        "sns.countplot(x='alive', data=age_nan, palette=custom_palette, stat='percent')\n",
        "plt.ylim(0, 100)  \n",
        "plt.title(\"Subset with NaN in 'age'\")\n",
        "\n",
        "# Countplot for 'alive' in entire dataset\n",
        "plt.subplot(1, 2, 2)\n",
        "sns.countplot(x='alive', data=df, palette=custom_palette, stat='percent')\n",
        "plt.ylim(0, 100)  \n",
        "plt.title(\"Entire Dataset\")\n",
        "\n",
        "plt.tight_layout()\n",
        "plt.show()\n",
        "\n",
        "print(\"Counts of survived and not survived with NaN in 'age':\")\n",
        "print(age_nan['alive'].value_counts())\n",
        "\n",
        "print(\"\\nCounts of survived and not survived in entire dataset:\")\n",
        "print(df['alive'].value_counts())\n"
      ]
    },
    {
      "cell_type": "markdown",
      "metadata": {},
      "source": [
        "Column 'who', can help us approximate the missing values of age, as it tells us if the passenger is an adult or child. It will not be precise but this information might help the model."
      ]
    },
    {
      "cell_type": "code",
      "execution_count": 206,
      "metadata": {},
      "outputs": [
        {
          "name": "stderr",
          "output_type": "stream",
          "text": [
            "/tmp/ipykernel_100049/2010062204.py:9: FutureWarning: \n",
            "\n",
            "Passing `palette` without assigning `hue` is deprecated and will be removed in v0.14.0. Assign the `x` variable to `hue` and set `legend=False` for the same effect.\n",
            "\n",
            "  sns.countplot(x='who', data=age_nan, palette=custom_palette, stat='percent')\n",
            "/tmp/ipykernel_100049/2010062204.py:15: FutureWarning: \n",
            "\n",
            "Passing `palette` without assigning `hue` is deprecated and will be removed in v0.14.0. Assign the `x` variable to `hue` and set `legend=False` for the same effect.\n",
            "\n",
            "  sns.countplot(x='who', data=df, palette=custom_palette, stat='percent')\n"
          ]
        },
        {
          "data": {
            "image/png": "[encoded data removed]",
            "text/plain": [
              "<Figure size 640x480 with 2 Axes>"
            ]
          },
          "metadata": {},
          "output_type": "display_data"
        },
        {
          "name": "stdout",
          "output_type": "stream",
          "text": [
            "Counts of survived and not survived with NaN in 'age':\n",
            "who\n",
            "man      124\n",
            "woman     53\n",
            "Name: count, dtype: int64\n"
          ]
        }
      ],
      "source": [
        "\n",
        "# Get rows with NaN in 'age'\n",
        "age_nan = df[df['age'].isnull()]\n",
        "\n",
        "\n",
        "custom_palette = {'woman': '#998ec3', 'man': '#f1a340', 'child' : '#e66101'}\n",
        "\n",
        "plt.subplot(1, 2, 1)\n",
        "sns.countplot(x='who', data=age_nan, palette=custom_palette, stat='percent')\n",
        "plt.ylim(0, 100)  \n",
        "plt.title(\"Subset with NaN in 'age'\")\n",
        "\n",
        "# Countplot for 'alive' in entire dataset\n",
        "plt.subplot(1, 2, 2)\n",
        "sns.countplot(x='who', data=df, palette=custom_palette, stat='percent')\n",
        "plt.ylim(0, 100)  \n",
        "plt.title(\"Entire Dataset\")\n",
        "\n",
        "plt.tight_layout()\n",
        "plt.show()\n",
        "\n",
        "print(\"Counts of survived and not survived with NaN in 'age':\")\n",
        "print(age_nan['who'].value_counts())\n"
      ]
    },
    {
      "cell_type": "markdown",
      "metadata": {},
      "source": [
        "The plot shows there are no missing values in age for children. In the dataset passengers are treated as children up to including 15 years old. With this information it will be easier to infer the missing age values."
      ]
    },
    {
      "cell_type": "code",
      "execution_count": 212,
      "metadata": {},
      "outputs": [
        {
          "data": {
            "text/plain": [
              "<Axes: xlabel='age', ylabel='Count'>"
            ]
          },
          "execution_count": 212,
          "metadata": {},
          "output_type": "execute_result"
        },
        {
          "data": {
            "image/png": "[encoded data removed]",
            "text/plain": [
              "<Figure size 640x480 with 1 Axes>"
            ]
          },
          "metadata": {},
          "output_type": "display_data"
        }
      ],
      "source": [
        "#check age distribution for woman and man in who column (no children)\n",
        "sns.histplot(x='age', hue='who', data=df[df['who'] != 'child'], palette=custom_palette, bins=30, alpha = 0.4)"
      ]
    },
    {
      "cell_type": "markdown",
      "metadata": {},
      "source": [
        "#### Cleanup of duplicated and redundant features\n",
        "\n",
        "Discarding duplicated columns embarked, alive, class. Dis\n",
        "\n",
        "Discarding redundant columns alone and adult male. "
      ]
    },
    {
      "cell_type": "code",
      "execution_count": 5,
      "metadata": {},
      "outputs": [
        {
          "data": {
            "text/html": [
              "<div>\n",
              "<style scoped>\n",
              "    .dataframe tbody tr th:only-of-type {\n",
              "        vertical-align: middle;\n",
              "    }\n",
              "\n",
              "    .dataframe tbody tr th {\n",
              "        vertical-align: top;\n",
              "    }\n",
              "\n",
              "    .dataframe thead th {\n",
              "        text-align: right;\n",
              "    }\n",
              "</style>\n",
              "<table border=\"1\" class=\"dataframe\">\n",
              "  <thead>\n",
              "    <tr style=\"text-align: right;\">\n",
              "      <th></th>\n",
              "      <th>survived</th>\n",
              "      <th>pclass</th>\n",
              "      <th>sex</th>\n",
              "      <th>age</th>\n",
              "      <th>sibsp</th>\n",
              "      <th>parch</th>\n",
              "      <th>fare</th>\n",
              "      <th>who</th>\n",
              "      <th>deck</th>\n",
              "      <th>embark_town</th>\n",
              "    </tr>\n",
              "  </thead>\n",
              "  <tbody>\n",
              "    <tr>\n",
              "      <th>0</th>\n",
              "      <td>0</td>\n",
              "      <td>3</td>\n",
              "      <td>male</td>\n",
              "      <td>22.0</td>\n",
              "      <td>1</td>\n",
              "      <td>0</td>\n",
              "      <td>7.2500</td>\n",
              "      <td>man</td>\n",
              "      <td>NaN</td>\n",
              "      <td>Southampton</td>\n",
              "    </tr>\n",
              "    <tr>\n",
              "      <th>1</th>\n",
              "      <td>1</td>\n",
              "      <td>1</td>\n",
              "      <td>female</td>\n",
              "      <td>38.0</td>\n",
              "      <td>1</td>\n",
              "      <td>0</td>\n",
              "      <td>71.2833</td>\n",
              "      <td>woman</td>\n",
              "      <td>C</td>\n",
              "      <td>Cherbourg</td>\n",
              "    </tr>\n",
              "    <tr>\n",
              "      <th>2</th>\n",
              "      <td>1</td>\n",
              "      <td>3</td>\n",
              "      <td>female</td>\n",
              "      <td>26.0</td>\n",
              "      <td>0</td>\n",
              "      <td>0</td>\n",
              "      <td>7.9250</td>\n",
              "      <td>woman</td>\n",
              "      <td>NaN</td>\n",
              "      <td>Southampton</td>\n",
              "    </tr>\n",
              "    <tr>\n",
              "      <th>3</th>\n",
              "      <td>1</td>\n",
              "      <td>1</td>\n",
              "      <td>female</td>\n",
              "      <td>35.0</td>\n",
              "      <td>1</td>\n",
              "      <td>0</td>\n",
              "      <td>53.1000</td>\n",
              "      <td>woman</td>\n",
              "      <td>C</td>\n",
              "      <td>Southampton</td>\n",
              "    </tr>\n",
              "    <tr>\n",
              "      <th>4</th>\n",
              "      <td>0</td>\n",
              "      <td>3</td>\n",
              "      <td>male</td>\n",
              "      <td>35.0</td>\n",
              "      <td>0</td>\n",
              "      <td>0</td>\n",
              "      <td>8.0500</td>\n",
              "      <td>man</td>\n",
              "      <td>NaN</td>\n",
              "      <td>Southampton</td>\n",
              "    </tr>\n",
              "  </tbody>\n",
              "</table>\n",
              "</div>"
            ],
            "text/plain": [
              "   survived  pclass     sex   age  sibsp  parch     fare    who deck  \\\n",
              "0         0       3    male  22.0      1      0   7.2500    man  NaN   \n",
              "1         1       1  female  38.0      1      0  71.2833  woman    C   \n",
              "2         1       3  female  26.0      0      0   7.9250  woman  NaN   \n",
              "3         1       1  female  35.0      1      0  53.1000  woman    C   \n",
              "4         0       3    male  35.0      0      0   8.0500    man  NaN   \n",
              "\n",
              "   embark_town  \n",
              "0  Southampton  \n",
              "1    Cherbourg  \n",
              "2  Southampton  \n",
              "3  Southampton  \n",
              "4  Southampton  "
            ]
          },
          "execution_count": 5,
          "metadata": {},
          "output_type": "execute_result"
        }
      ],
      "source": [
        "#delete columns ['embarked, 'alive', 'class', 'alone', 'adult_male']\n",
        "df = df.drop(columns=['embarked', 'alive', 'class', 'alone', 'adult_male'])\n",
        "df.head()"
      ]
    },
    {
      "cell_type": "markdown",
      "metadata": {
        "id": "9kxsA0F5ES-e"
      },
      "source": [
        "## Data preparation\n"
      ]
    },
    {
      "cell_type": "markdown",
      "metadata": {},
      "source": [
        "#### Dealing with missing values\n",
        "\n",
        "Categorical features need to be turned into dummy features. Even if 77% values in column deck are missing, dummy variables will enable using information about it where it is available, which can benefit the model. For this reason the column will not be dropped.\n",
        "\n",
        "There are no missing values of age for children. We can estimate age values for women and men using mean age for each sex seperately. \n",
        "\n",
        "There are two missing values for embark_town feature. This is not signifficant and if there is some information to why these two values are missing dummy variables will retain it. "
      ]
    },
    {
      "cell_type": "code",
      "execution_count": 6,
      "metadata": {},
      "outputs": [
        {
          "name": "stdout",
          "output_type": "stream",
          "text": [
            "who\n",
            "child     6.369518\n",
            "man      33.173123\n",
            "woman    32.000000\n",
            "Name: age, dtype: float64\n"
          ]
        }
      ],
      "source": [
        "#get mean age for each who category\n",
        "mean_age = df.groupby('who')['age'].mean()\n",
        "print(mean_age)"
      ]
    },
    {
      "cell_type": "code",
      "execution_count": 7,
      "metadata": {},
      "outputs": [
        {
          "data": {
            "text/plain": [
              "survived         0\n",
              "pclass           0\n",
              "sex              0\n",
              "age              0\n",
              "sibsp            0\n",
              "parch            0\n",
              "fare             0\n",
              "who              0\n",
              "deck           688\n",
              "embark_town      2\n",
              "dtype: int64"
            ]
          },
          "execution_count": 7,
          "metadata": {},
          "output_type": "execute_result"
        }
      ],
      "source": [
        "#fill missing values in age column with mean age for each who category\n",
        "df['age'] = df['age'].fillna(df.groupby('who')['age'].transform('mean'))\n",
        "df.isna().sum()"
      ]
    },
    {
      "cell_type": "code",
      "execution_count": 8,
      "metadata": {},
      "outputs": [
        {
          "name": "stdout",
          "output_type": "stream",
          "text": [
            "who\n",
            "child     6.369518\n",
            "man      33.173123\n",
            "woman    32.000000\n",
            "Name: age, dtype: float64\n"
          ]
        }
      ],
      "source": [
        "#get mean age for each who category\n",
        "mean_age = df.groupby('who')['age'].mean()\n",
        "print(mean_age)"
      ]
    },
    {
      "cell_type": "code",
      "execution_count": 9,
      "metadata": {},
      "outputs": [
        {
          "data": {
            "text/plain": [
              "53"
            ]
          },
          "execution_count": 9,
          "metadata": {},
          "output_type": "execute_result"
        }
      ],
      "source": [
        "#check duplicate rows\n",
        "duplicated_rows = df[df.duplicated()]\n",
        "unique_duplicated_rows = duplicated_rows.drop_duplicates()\n",
        "len(unique_duplicated_rows)"
      ]
    },
    {
      "cell_type": "code",
      "execution_count": 10,
      "metadata": {},
      "outputs": [
        {
          "data": {
            "text/plain": [
              "(784, 10)"
            ]
          },
          "execution_count": 10,
          "metadata": {},
          "output_type": "execute_result"
        }
      ],
      "source": [
        "#remove duplicate rows\n",
        "df = df.drop_duplicates()\n",
        "df.shape"
      ]
    },
    {
      "cell_type": "markdown",
      "metadata": {},
      "source": [
        "Categorical features need to be transformed into dummy variables. "
      ]
    },
    {
      "cell_type": "code",
      "execution_count": 11,
      "metadata": {},
      "outputs": [
        {
          "data": {
            "text/html": [
              "<div>\n",
              "<style scoped>\n",
              "    .dataframe tbody tr th:only-of-type {\n",
              "        vertical-align: middle;\n",
              "    }\n",
              "\n",
              "    .dataframe tbody tr th {\n",
              "        vertical-align: top;\n",
              "    }\n",
              "\n",
              "    .dataframe thead th {\n",
              "        text-align: right;\n",
              "    }\n",
              "</style>\n",
              "<table border=\"1\" class=\"dataframe\">\n",
              "  <thead>\n",
              "    <tr style=\"text-align: right;\">\n",
              "      <th></th>\n",
              "      <th>survived</th>\n",
              "      <th>pclass</th>\n",
              "      <th>age</th>\n",
              "      <th>sibsp</th>\n",
              "      <th>parch</th>\n",
              "      <th>fare</th>\n",
              "      <th>sex_male</th>\n",
              "      <th>who_man</th>\n",
              "      <th>who_woman</th>\n",
              "      <th>deck_B</th>\n",
              "      <th>deck_C</th>\n",
              "      <th>deck_D</th>\n",
              "      <th>deck_E</th>\n",
              "      <th>deck_F</th>\n",
              "      <th>deck_G</th>\n",
              "      <th>embark_town_Queenstown</th>\n",
              "      <th>embark_town_Southampton</th>\n",
              "    </tr>\n",
              "  </thead>\n",
              "  <tbody>\n",
              "    <tr>\n",
              "      <th>0</th>\n",
              "      <td>0</td>\n",
              "      <td>3</td>\n",
              "      <td>22.0</td>\n",
              "      <td>1</td>\n",
              "      <td>0</td>\n",
              "      <td>7.2500</td>\n",
              "      <td>True</td>\n",
              "      <td>True</td>\n",
              "      <td>False</td>\n",
              "      <td>False</td>\n",
              "      <td>False</td>\n",
              "      <td>False</td>\n",
              "      <td>False</td>\n",
              "      <td>False</td>\n",
              "      <td>False</td>\n",
              "      <td>False</td>\n",
              "      <td>True</td>\n",
              "    </tr>\n",
              "    <tr>\n",
              "      <th>1</th>\n",
              "      <td>1</td>\n",
              "      <td>1</td>\n",
              "      <td>38.0</td>\n",
              "      <td>1</td>\n",
              "      <td>0</td>\n",
              "      <td>71.2833</td>\n",
              "      <td>False</td>\n",
              "      <td>False</td>\n",
              "      <td>True</td>\n",
              "      <td>False</td>\n",
              "      <td>True</td>\n",
              "      <td>False</td>\n",
              "      <td>False</td>\n",
              "      <td>False</td>\n",
              "      <td>False</td>\n",
              "      <td>False</td>\n",
              "      <td>False</td>\n",
              "    </tr>\n",
              "    <tr>\n",
              "      <th>2</th>\n",
              "      <td>1</td>\n",
              "      <td>3</td>\n",
              "      <td>26.0</td>\n",
              "      <td>0</td>\n",
              "      <td>0</td>\n",
              "      <td>7.9250</td>\n",
              "      <td>False</td>\n",
              "      <td>False</td>\n",
              "      <td>True</td>\n",
              "      <td>False</td>\n",
              "      <td>False</td>\n",
              "      <td>False</td>\n",
              "      <td>False</td>\n",
              "      <td>False</td>\n",
              "      <td>False</td>\n",
              "      <td>False</td>\n",
              "      <td>True</td>\n",
              "    </tr>\n",
              "    <tr>\n",
              "      <th>3</th>\n",
              "      <td>1</td>\n",
              "      <td>1</td>\n",
              "      <td>35.0</td>\n",
              "      <td>1</td>\n",
              "      <td>0</td>\n",
              "      <td>53.1000</td>\n",
              "      <td>False</td>\n",
              "      <td>False</td>\n",
              "      <td>True</td>\n",
              "      <td>False</td>\n",
              "      <td>True</td>\n",
              "      <td>False</td>\n",
              "      <td>False</td>\n",
              "      <td>False</td>\n",
              "      <td>False</td>\n",
              "      <td>False</td>\n",
              "      <td>True</td>\n",
              "    </tr>\n",
              "    <tr>\n",
              "      <th>4</th>\n",
              "      <td>0</td>\n",
              "      <td>3</td>\n",
              "      <td>35.0</td>\n",
              "      <td>0</td>\n",
              "      <td>0</td>\n",
              "      <td>8.0500</td>\n",
              "      <td>True</td>\n",
              "      <td>True</td>\n",
              "      <td>False</td>\n",
              "      <td>False</td>\n",
              "      <td>False</td>\n",
              "      <td>False</td>\n",
              "      <td>False</td>\n",
              "      <td>False</td>\n",
              "      <td>False</td>\n",
              "      <td>False</td>\n",
              "      <td>True</td>\n",
              "    </tr>\n",
              "  </tbody>\n",
              "</table>\n",
              "</div>"
            ],
            "text/plain": [
              "   survived  pclass   age  sibsp  parch     fare  sex_male  who_man  \\\n",
              "0         0       3  22.0      1      0   7.2500      True     True   \n",
              "1         1       1  38.0      1      0  71.2833     False    False   \n",
              "2         1       3  26.0      0      0   7.9250     False    False   \n",
              "3         1       1  35.0      1      0  53.1000     False    False   \n",
              "4         0       3  35.0      0      0   8.0500      True     True   \n",
              "\n",
              "   who_woman  deck_B  deck_C  deck_D  deck_E  deck_F  deck_G  \\\n",
              "0      False   False   False   False   False   False   False   \n",
              "1       True   False    True   False   False   False   False   \n",
              "2       True   False   False   False   False   False   False   \n",
              "3       True   False    True   False   False   False   False   \n",
              "4      False   False   False   False   False   False   False   \n",
              "\n",
              "   embark_town_Queenstown  embark_town_Southampton  \n",
              "0                   False                     True  \n",
              "1                   False                    False  \n",
              "2                   False                     True  \n",
              "3                   False                     True  \n",
              "4                   False                     True  "
            ]
          },
          "execution_count": 11,
          "metadata": {},
          "output_type": "execute_result"
        }
      ],
      "source": [
        "df_dummies = pd.get_dummies(df, drop_first=True)\n",
        "df_dummies.head()"
      ]
    },
    {
      "cell_type": "code",
      "execution_count": 12,
      "metadata": {},
      "outputs": [
        {
          "data": {
            "text/plain": [
              "survived                   0\n",
              "pclass                     0\n",
              "age                        0\n",
              "sibsp                      0\n",
              "parch                      0\n",
              "fare                       0\n",
              "sex_male                   0\n",
              "who_man                    0\n",
              "who_woman                  0\n",
              "deck_B                     0\n",
              "deck_C                     0\n",
              "deck_D                     0\n",
              "deck_E                     0\n",
              "deck_F                     0\n",
              "deck_G                     0\n",
              "embark_town_Queenstown     0\n",
              "embark_town_Southampton    0\n",
              "dtype: int64"
            ]
          },
          "execution_count": 12,
          "metadata": {},
          "output_type": "execute_result"
        }
      ],
      "source": [
        "df_dummies.isna().sum()"
      ]
    },
    {
      "cell_type": "markdown",
      "metadata": {},
      "source": [
        "We have out dummy variables and there is no missing values or duplicated rows. We can train the model now."
      ]
    },
    {
      "cell_type": "markdown",
      "metadata": {
        "id": "On1aANHPFExU"
      },
      "source": [
        "## Model training\n",
        "Train and evaluate multiple models and find the one that predicts livenss the best.\n",
        "\n",
        "\n",
        "- my nn implementation\n",
        "- boosted trees - xgboost\n",
        "- log reg\n",
        "- majority baseline?\n",
        "- SVM"
      ]
    },
    {
      "cell_type": "markdown",
      "metadata": {},
      "source": [
        "#### Gradient boosted trees"
      ]
    },
    {
      "cell_type": "code",
      "execution_count": 13,
      "metadata": {},
      "outputs": [],
      "source": [
        "#use xgboost to build gradient boosted trees\n",
        "from sklearn.model_selection import train_test_split\n",
        "from xgboost import XGBClassifier\n",
        "from sklearn.metrics import accuracy_score\n",
        "from sklearn.model_selection import StratifiedKFold\n",
        "from sklearn.model_selection import cross_val_score\n",
        "#import logloss for cross validation\n",
        "from sklearn.metrics import log_loss\n",
        "import tqdm\n",
        "#import wandb\n",
        "#from \n",
        "# .integration.xgboost import WandbCallback\n",
        "import logging\n",
        "\n",
        "X = df_dummies.drop(columns='survived')\n",
        "y = df_dummies['survived']\n"
      ]
    },
    {
      "cell_type": "code",
      "execution_count": 16,
      "metadata": {},
      "outputs": [
        {
          "data": {
            "text/plain": [
              "True"
            ]
          },
          "execution_count": 16,
          "metadata": {},
          "output_type": "execute_result"
        }
      ],
      "source": [
        "#wandb.login()\n"
      ]
    },
    {
      "cell_type": "code",
      "execution_count": 17,
      "metadata": {},
      "outputs": [
        {
          "name": "stderr",
          "output_type": "stream",
          "text": [
            "\u001b[34m\u001b[1mwandb\u001b[0m: Logging into wandb.ai. (Learn how to deploy a W&B server locally: https://wandb.me/wandb-server)\n",
            "\u001b[34m\u001b[1mwandb\u001b[0m: You can find your API key in your browser here: https://wandb.ai/authorize\n",
            "\u001b[34m\u001b[1mwandb\u001b[0m: Paste an API key from your profile and hit enter, or press ctrl+c to quit:\u001b[34m\u001b[1mwandb\u001b[0m: Appending key for api.wandb.ai to your netrc file: /home/anjah/.netrc\n"
          ]
        },
        {
          "data": {
            "text/plain": [
              "True"
            ]
          },
          "execution_count": 17,
          "metadata": {},
          "output_type": "execute_result"
        }
      ],
      "source": [
        "#force reload of wandb\n",
        "#wandb.login(relogin=True)\n"
      ]
    },
    {
      "cell_type": "code",
      "execution_count": 83,
      "metadata": {},
      "outputs": [],
      "source": [
        "#cross validation function\n",
        "def cross_validate(X, y, model, n_splits=5, reps = 1):\n",
        "    scores_CA = []\n",
        "    scores_logloss = []\n",
        "\n",
        "    #split the data into n_splits\n",
        "    for rep in range(reps):\n",
        "        skf = StratifiedKFold(n_splits=n_splits, shuffle=True, random_state=rep+1)\n",
        "        ca_rep = []\n",
        "        logloss_rep = []\n",
        "        with tqdm.tqdm(total=n_splits) as pbar:\n",
        "            for train_index, test_index in skf.split(X, y):\n",
        "\n",
        "                X_train, X_test = X.iloc[train_index], X.iloc[test_index]\n",
        "                y_train, y_test = y.iloc[train_index], y.iloc[test_index]\n",
        "                #model.fit(X_train, y_train, callbacks=[WandbCallback()])\n",
        "                model.fit(X_train, y_train)\n",
        "                y_pred = model.predict(X_test)\n",
        "                ca_rep.append(np.mean(accuracy_score(y_test, y_pred)))\n",
        "                y_pred_proba = model.predict_proba(X_test)\n",
        "                logloss_rep.append(np.mean(log_loss(y_test, y_pred_proba)))\n",
        "\n",
        "                pbar.update(1)\n",
        "            \n",
        "        print(f\"CA rep: {np.mean(ca_rep)}\")\n",
        "        print(f\"logloss rep: {np.mean(logloss_rep)}\")\n",
        "        scores_CA.append(np.mean(ca_rep))\n",
        "        scores_logloss.append(np.mean(logloss_rep))\n",
        "\n",
        "\n",
        "    #wandb.finish()\n",
        "\n",
        "    return scores_CA, scores_logloss\n",
        "\n"
      ]
    },
    {
      "cell_type": "code",
      "execution_count": 84,
      "metadata": {},
      "outputs": [],
      "source": [
        "btrees_model = XGBClassifier(n_estimators=100, max_depth=3, learning_rate=0.1, colsample_bytree=0.2)"
      ]
    },
    {
      "cell_type": "code",
      "execution_count": 85,
      "metadata": {},
      "outputs": [
        {
          "name": "stderr",
          "output_type": "stream",
          "text": [
            "100%|██████████| 5/5 [00:00<00:00, 17.00it/s]\n"
          ]
        },
        {
          "name": "stdout",
          "output_type": "stream",
          "text": [
            "CA rep: 0.8035440143720398\n",
            "logloss rep: 0.46140709703427457\n"
          ]
        },
        {
          "name": "stderr",
          "output_type": "stream",
          "text": [
            "100%|██████████| 5/5 [00:00<00:00, 22.15it/s]\n"
          ]
        },
        {
          "name": "stdout",
          "output_type": "stream",
          "text": [
            "CA rep: 0.7908704883227177\n",
            "logloss rep: 0.46390125033378987\n"
          ]
        },
        {
          "name": "stderr",
          "output_type": "stream",
          "text": [
            "100%|██████████| 5/5 [00:00<00:00,  9.32it/s]\n"
          ]
        },
        {
          "name": "stdout",
          "output_type": "stream",
          "text": [
            "CA rep: 0.8022619630899885\n",
            "logloss rep: 0.4548750201662119\n"
          ]
        },
        {
          "name": "stderr",
          "output_type": "stream",
          "text": [
            "100%|██████████| 5/5 [00:00<00:00, 20.05it/s]\n"
          ]
        },
        {
          "name": "stdout",
          "output_type": "stream",
          "text": [
            "CA rep: 0.7984484729707659\n",
            "logloss rep: 0.45513098676357283\n"
          ]
        },
        {
          "name": "stderr",
          "output_type": "stream",
          "text": [
            "100%|██████████| 5/5 [00:00<00:00, 21.54it/s]\n"
          ]
        },
        {
          "name": "stdout",
          "output_type": "stream",
          "text": [
            "CA rep: 0.7907643312101911\n",
            "logloss rep: 0.45937247695773636\n"
          ]
        },
        {
          "name": "stderr",
          "output_type": "stream",
          "text": [
            "100%|██████████| 5/5 [00:00<00:00, 21.27it/s]\n"
          ]
        },
        {
          "name": "stdout",
          "output_type": "stream",
          "text": [
            "CA rep: 0.7933937612281561\n",
            "logloss rep: 0.45486350130305475\n"
          ]
        },
        {
          "name": "stderr",
          "output_type": "stream",
          "text": [
            "100%|██████████| 5/5 [00:00<00:00, 20.02it/s]\n"
          ]
        },
        {
          "name": "stdout",
          "output_type": "stream",
          "text": [
            "CA rep: 0.7972644128695084\n",
            "logloss rep: 0.46053385990338525\n"
          ]
        },
        {
          "name": "stderr",
          "output_type": "stream",
          "text": [
            "100%|██████████| 5/5 [00:00<00:00, 20.56it/s]\n"
          ]
        },
        {
          "name": "stdout",
          "output_type": "stream",
          "text": [
            "CA rep: 0.7947248081006042\n",
            "logloss rep: 0.4577543978758364\n"
          ]
        },
        {
          "name": "stderr",
          "output_type": "stream",
          "text": [
            "100%|██████████| 5/5 [00:00<00:00, 21.83it/s]\n"
          ]
        },
        {
          "name": "stdout",
          "output_type": "stream",
          "text": [
            "CA rep: 0.7983994773803691\n",
            "logloss rep: 0.4550502896558946\n"
          ]
        },
        {
          "name": "stderr",
          "output_type": "stream",
          "text": [
            "100%|██████████| 5/5 [00:00<00:00, 21.52it/s]"
          ]
        },
        {
          "name": "stdout",
          "output_type": "stream",
          "text": [
            "CA rep: 0.8009962436714029\n",
            "logloss rep: 0.447678993730147\n"
          ]
        },
        {
          "name": "stderr",
          "output_type": "stream",
          "text": [
            "\n"
          ]
        }
      ],
      "source": [
        "#cross validation 10 time 5 fold\n",
        "#logging.basicConfig(level=logging.DEBUG)\n",
        "#initialize wandb!\n",
        "\n",
        "scores_CA, scores_logloss = cross_validate(X, y, btrees_model, n_splits=5, reps = 10)"
      ]
    },
    {
      "cell_type": "code",
      "execution_count": 29,
      "metadata": {},
      "outputs": [
        {
          "data": {
            "text/html": [
              " View run <strong style=\"color:#cdcd00\">log_reg</strong> at: <a href='https://wandb.ai/ah1/titanic/runs/ngmnm3f0' target=\"_blank\">https://wandb.ai/ah1/titanic/runs/ngmnm3f0</a><br/> View project at: <a href='https://wandb.ai/ah1/titanic' target=\"_blank\">https://wandb.ai/ah1/titanic</a><br/>Synced 5 W&B file(s), 0 media file(s), 0 artifact file(s) and 0 other file(s)"
            ],
            "text/plain": [
              "<IPython.core.display.HTML object>"
            ]
          },
          "metadata": {},
          "output_type": "display_data"
        },
        {
          "data": {
            "text/html": [
              "Find logs at: <code>./wandb/run-20240408_093431-ngmnm3f0/logs</code>"
            ],
            "text/plain": [
              "<IPython.core.display.HTML object>"
            ]
          },
          "metadata": {},
          "output_type": "display_data"
        }
      ],
      "source": [
        "#end wandb run\n",
        "#wandb.finish()"
      ]
    },
    {
      "cell_type": "code",
      "execution_count": 86,
      "metadata": {},
      "outputs": [
        {
          "name": "stdout",
          "output_type": "stream",
          "text": [
            "Mean accuracy: 0.7970667973215744, SEM accuracy: 0.0014344963664758904\n",
            "Mean logloss: 0.45705678737239036, SEM logloss: 0.0014489818112188367\n"
          ]
        }
      ],
      "source": [
        "#get the mean and standard error of the mean of the scores\n",
        "mean_CA = np.mean(scores_CA)\n",
        "sem_CA = scipy.stats.sem(scores_CA)\n",
        "mean_logloss = np.mean(scores_logloss)\n",
        "sem_logloss = scipy.stats.sem(scores_logloss)\n",
        "\n",
        "print(f\"Mean accuracy: {mean_CA}, SEM accuracy: {sem_CA}\")\n",
        "print(f\"Mean logloss: {mean_logloss}, SEM logloss: {sem_logloss}\")"
      ]
    },
    {
      "cell_type": "markdown",
      "metadata": {},
      "source": [
        "Results of Boosted trees classifer:\n",
        "- Mean accuracy: 0.7970667973215744, SEM accuracy: 0.0014344963664758904\n",
        "- Mean logloss: 0.45705678737239036, SEM logloss: 0.0014489818112188367"
      ]
    },
    {
      "cell_type": "markdown",
      "metadata": {},
      "source": [
        "#### Logistic Regression"
      ]
    },
    {
      "cell_type": "code",
      "execution_count": 88,
      "metadata": {},
      "outputs": [],
      "source": [
        "from sklearn.preprocessing import StandardScaler"
      ]
    },
    {
      "cell_type": "code",
      "execution_count": 89,
      "metadata": {},
      "outputs": [],
      "source": [
        "#cross validation function\n",
        "def cross_validate_LR(X, y, model, n_splits=5, reps = 1):\n",
        "    scores_CA = []\n",
        "    scores_logloss = []\n",
        "    coefs = []\n",
        "\n",
        "    #split the data into n_splits\n",
        "    for rep in range(reps):\n",
        "        skf = StratifiedKFold(n_splits=n_splits, shuffle=True, random_state=rep+1)\n",
        "        ca_rep = []\n",
        "        logloss_rep = []\n",
        "        coefs_rep = []\n",
        "        with tqdm.tqdm(total=n_splits) as pbar:\n",
        "            for train_index, test_index in skf.split(X, y):\n",
        "\n",
        "                X_train, X_test = X.iloc[train_index], X.iloc[test_index]\n",
        "                y_train, y_test = y.iloc[train_index], y.iloc[test_index]\n",
        "                #model.fit(X_train, y_train, callbacks=[WandbCallback()])\n",
        "                # scale the data\n",
        "                scaler = StandardScaler()\n",
        "                X_train = scaler.fit_transform(X_train)\n",
        "                X_test = scaler.transform(X_test)\n",
        "                model.fit(X_train, y_train)\n",
        "                y_pred = model.predict(X_test)\n",
        "                ca_rep.append(np.mean(accuracy_score(y_test, y_pred)))\n",
        "                y_pred_proba = model.predict_proba(X_test)\n",
        "                logloss_rep.append(np.mean(log_loss(y_test, y_pred_proba)))\n",
        "                coefs_rep.append(model.coef_)\n",
        "                pbar.update(1)\n",
        "            \n",
        "        print(f\"CA rep: {np.mean(ca_rep)}\")\n",
        "        print(f\"logloss rep: {np.mean(logloss_rep)}\")\n",
        "        scores_CA.append(np.mean(ca_rep))\n",
        "        scores_logloss.append(np.mean(logloss_rep))\n",
        "        coefs.append(np.mean(coefs_rep, axis=0))\n",
        "    \n",
        "\n",
        "    #wandb.finish()\n",
        "\n",
        "    return scores_CA, scores_logloss, coefs\n"
      ]
    },
    {
      "cell_type": "code",
      "execution_count": 45,
      "metadata": {},
      "outputs": [
        {
          "data": {
            "text/plain": [
              "[3.5]"
            ]
          },
          "execution_count": 45,
          "metadata": {},
          "output_type": "execute_result"
        }
      ],
      "source": [
        "a = [1,2,3,4,5]\n",
        "a[0] = np.mean(a[1:])\n",
        "a[1:] = []\n",
        "a"
      ]
    },
    {
      "cell_type": "code",
      "execution_count": 47,
      "metadata": {},
      "outputs": [],
      "source": [
        "#logistic regression model\n",
        "from sklearn.linear_model import LogisticRegression \n",
        "log_reg = LogisticRegression(max_iter=1000, fit_intercept=False)"
      ]
    },
    {
      "cell_type": "code",
      "execution_count": 90,
      "metadata": {},
      "outputs": [
        {
          "name": "stderr",
          "output_type": "stream",
          "text": [
            "100%|██████████| 5/5 [00:00<00:00, 41.80it/s]\n"
          ]
        },
        {
          "name": "stdout",
          "output_type": "stream",
          "text": [
            "CA rep: 0.7908214927323207\n",
            "logloss rep: 0.4783634168530685\n"
          ]
        },
        {
          "name": "stderr",
          "output_type": "stream",
          "text": [
            "100%|██████████| 5/5 [00:00<00:00, 38.17it/s]\n"
          ]
        },
        {
          "name": "stdout",
          "output_type": "stream",
          "text": [
            "CA rep: 0.7857912787849093\n",
            "logloss rep: 0.4730785224817848\n"
          ]
        },
        {
          "name": "stderr",
          "output_type": "stream",
          "text": [
            "100%|██████████| 5/5 [00:00<00:00, 50.08it/s]\n"
          ]
        },
        {
          "name": "stdout",
          "output_type": "stream",
          "text": [
            "CA rep: 0.7831373509717459\n",
            "logloss rep: 0.4758293362159967\n"
          ]
        },
        {
          "name": "stderr",
          "output_type": "stream",
          "text": [
            "100%|██████████| 5/5 [00:00<00:00, 17.91it/s]\n"
          ]
        },
        {
          "name": "stdout",
          "output_type": "stream",
          "text": [
            "CA rep: 0.7856524579454517\n",
            "logloss rep: 0.4730901335154786\n"
          ]
        },
        {
          "name": "stderr",
          "output_type": "stream",
          "text": [
            "100%|██████████| 5/5 [00:00<00:00, 20.18it/s]\n"
          ]
        },
        {
          "name": "stdout",
          "output_type": "stream",
          "text": [
            "CA rep: 0.7805242528172466\n",
            "logloss rep: 0.480809059782767\n"
          ]
        },
        {
          "name": "stderr",
          "output_type": "stream",
          "text": [
            "100%|██████████| 5/5 [00:00<00:00, 35.40it/s]\n"
          ]
        },
        {
          "name": "stdout",
          "output_type": "stream",
          "text": [
            "CA rep: 0.7844765637759268\n",
            "logloss rep: 0.47603841013593734\n"
          ]
        },
        {
          "name": "stderr",
          "output_type": "stream",
          "text": [
            "100%|██████████| 5/5 [00:00<00:00, 43.33it/s]\n"
          ]
        },
        {
          "name": "stdout",
          "output_type": "stream",
          "text": [
            "CA rep: 0.787065164135228\n",
            "logloss rep: 0.47513152152189875\n"
          ]
        },
        {
          "name": "stderr",
          "output_type": "stream",
          "text": [
            "100%|██████████| 5/5 [00:00<00:00, 45.24it/s]\n"
          ]
        },
        {
          "name": "stdout",
          "output_type": "stream",
          "text": [
            "CA rep: 0.78192879307529\n",
            "logloss rep: 0.4763460934828102\n"
          ]
        },
        {
          "name": "stderr",
          "output_type": "stream",
          "text": [
            "100%|██████████| 5/5 [00:00<00:00, 30.71it/s]\n"
          ]
        },
        {
          "name": "stdout",
          "output_type": "stream",
          "text": [
            "CA rep: 0.7869263432957702\n",
            "logloss rep: 0.4721352755068148\n"
          ]
        },
        {
          "name": "stderr",
          "output_type": "stream",
          "text": [
            "100%|██████████| 5/5 [00:00<00:00, 45.27it/s]"
          ]
        },
        {
          "name": "stdout",
          "output_type": "stream",
          "text": [
            "CA rep: 0.7907724971419239\n",
            "logloss rep: 0.46876970805120644\n"
          ]
        },
        {
          "name": "stderr",
          "output_type": "stream",
          "text": [
            "\n"
          ]
        }
      ],
      "source": [
        "scores_CA_lr, scores_logloss_lr, coefs_lr = cross_validate_LR(X, y, log_reg, n_splits=5, reps = 10)"
      ]
    },
    {
      "cell_type": "code",
      "execution_count": 91,
      "metadata": {},
      "outputs": [
        {
          "data": {
            "text/plain": [
              "[0.4783634168530685,\n",
              " 0.4730785224817848,\n",
              " 0.4758293362159967,\n",
              " 0.4730901335154786,\n",
              " 0.480809059782767,\n",
              " 0.47603841013593734,\n",
              " 0.47513152152189875,\n",
              " 0.4763460934828102,\n",
              " 0.4721352755068148,\n",
              " 0.46876970805120644]"
            ]
          },
          "execution_count": 91,
          "metadata": {},
          "output_type": "execute_result"
        }
      ],
      "source": [
        "scores_logloss_lr"
      ]
    },
    {
      "cell_type": "code",
      "execution_count": 92,
      "metadata": {},
      "outputs": [
        {
          "name": "stdout",
          "output_type": "stream",
          "text": [
            "Mean accuracy: 0.7857096194675812, SEM accuracy: 0.001077092276993636\n",
            "Mean logloss: 0.47495914775477627, SEM logloss: 0.0010697833072553515\n"
          ]
        }
      ],
      "source": [
        "mean_CA_lr = np.mean(scores_CA_lr)\n",
        "sem_CA_lr = scipy.stats.sem(scores_CA_lr)\n",
        "mean_logloss_lr = np.mean(scores_logloss_lr)\n",
        "sem_logloss_lr = scipy.stats.sem(scores_logloss_lr)\n",
        "print(f\"Mean accuracy: {mean_CA_lr}, SEM accuracy: {sem_CA_lr}\")\n",
        "print(f\"Mean logloss: {mean_logloss_lr}, SEM logloss: {sem_logloss_lr}\")"
      ]
    },
    {
      "cell_type": "code",
      "execution_count": 93,
      "metadata": {},
      "outputs": [
        {
          "data": {
            "text/plain": [
              "pclass                    -0.663650\n",
              "age                       -0.363860\n",
              "sibsp                     -0.449655\n",
              "parch                     -0.223097\n",
              "fare                       0.200789\n",
              "sex_male                  -0.112954\n",
              "who_man                   -1.196280\n",
              "who_woman                  0.167324\n",
              "deck_B                     0.132321\n",
              "deck_C                     0.000964\n",
              "deck_D                     0.224975\n",
              "deck_E                     0.276182\n",
              "deck_F                     0.121322\n",
              "deck_G                    -0.043884\n",
              "embark_town_Queenstown    -0.143058\n",
              "embark_town_Southampton   -0.190651\n",
              "dtype: float64"
            ]
          },
          "execution_count": 93,
          "metadata": {},
          "output_type": "execute_result"
        }
      ],
      "source": [
        "coefs = np.mean(coefs_lr, axis=0)\n",
        "coef_sem = scipy.stats.sem(coefs_lr, axis=0)\n",
        "coefs = coefs.flatten()\n",
        "coefs = pd.Series(coefs, index=X.columns)\n",
        "coefs"
      ]
    },
    {
      "cell_type": "code",
      "execution_count": 94,
      "metadata": {},
      "outputs": [
        {
          "data": {
            "text/plain": [
              "array([[0.00091063, 0.00098477, 0.00094299, 0.00122325, 0.00242812,\n",
              "        0.00165598, 0.00172393, 0.00182038, 0.00140371, 0.00069901,\n",
              "        0.00148706, 0.00086833, 0.00201528, 0.00033933, 0.00071699,\n",
              "        0.00069695]])"
            ]
          },
          "execution_count": 94,
          "metadata": {},
          "output_type": "execute_result"
        }
      ],
      "source": [
        "coef_sem"
      ]
    },
    {
      "cell_type": "markdown",
      "metadata": {},
      "source": [
        "Results for Logistic regression:\n",
        "- Mean accuracy: 0.7857096194675812, SEM accuracy: 0.001077092276993636\n",
        "- Mean logloss: 0.47495914775477627, SEM logloss: 0.0010697833072553515"
      ]
    },
    {
      "cell_type": "markdown",
      "metadata": {},
      "source": [
        "#### SVM"
      ]
    },
    {
      "cell_type": "code",
      "execution_count": 97,
      "metadata": {},
      "outputs": [],
      "source": [
        "#cross validation function\n",
        "def cross_validate_SVM(X, y, model, n_splits=5, reps = 1):\n",
        "    scores_CA = []\n",
        "    scores_logloss = []\n",
        "    #coefs = []\n",
        "\n",
        "    #split the data into n_splits\n",
        "    for rep in range(reps):\n",
        "        skf = StratifiedKFold(n_splits=n_splits, shuffle=True, random_state=rep+1)\n",
        "        ca_rep = []\n",
        "        logloss_rep = []\n",
        "        coefs_rep = []\n",
        "        with tqdm.tqdm(total=n_splits) as pbar:\n",
        "            for train_index, test_index in skf.split(X, y):\n",
        "\n",
        "                X_train, X_test = X.iloc[train_index], X.iloc[test_index]\n",
        "                y_train, y_test = y.iloc[train_index], y.iloc[test_index]\n",
        "                #model.fit(X_train, y_train, callbacks=[WandbCallback()])\n",
        "                # scale the data\n",
        "                scaler = StandardScaler()\n",
        "                X_train = scaler.fit_transform(X_train)\n",
        "                X_test = scaler.transform(X_test)\n",
        "                model.fit(X_train, y_train)\n",
        "                y_pred = model.predict(X_test)\n",
        "                ca_rep.append(np.mean(accuracy_score(y_test, y_pred)))\n",
        "                y_pred_proba = model.predict_proba(X_test)\n",
        "                logloss_rep.append(np.mean(log_loss(y_test, y_pred_proba)))\n",
        "                #coefs_rep.append(model.coef_)\n",
        "                pbar.update(1)\n",
        "            \n",
        "        print(f\"CA rep: {np.mean(ca_rep)}\")\n",
        "        print(f\"logloss rep: {np.mean(logloss_rep)}\")\n",
        "        scores_CA.append(np.mean(ca_rep))\n",
        "        scores_logloss.append(np.mean(logloss_rep))\n",
        "        #coefs.append(np.mean(coefs_rep, axis=0))\n",
        "    \n",
        "\n",
        "    #wandb.finish()\n",
        "\n",
        "    return scores_CA, scores_logloss\n"
      ]
    },
    {
      "cell_type": "code",
      "execution_count": 96,
      "metadata": {},
      "outputs": [],
      "source": [
        "#SVM for classification\n",
        "from sklearn.svm import SVC\n",
        "svm = SVC(probability=True)"
      ]
    },
    {
      "cell_type": "code",
      "execution_count": 98,
      "metadata": {},
      "outputs": [
        {
          "name": "stderr",
          "output_type": "stream",
          "text": [
            "100%|██████████| 5/5 [00:00<00:00, 23.40it/s]\n"
          ]
        },
        {
          "name": "stdout",
          "output_type": "stream",
          "text": [
            "CA rep: 0.7972235832108444\n",
            "logloss rep: 0.47009157944860025\n"
          ]
        },
        {
          "name": "stderr",
          "output_type": "stream",
          "text": [
            "100%|██████████| 5/5 [00:00<00:00, 25.54it/s]\n"
          ]
        },
        {
          "name": "stdout",
          "output_type": "stream",
          "text": [
            "CA rep: 0.8061897762534705\n",
            "logloss rep: 0.46656904377461206\n"
          ]
        },
        {
          "name": "stderr",
          "output_type": "stream",
          "text": [
            "100%|██████████| 5/5 [00:00<00:00, 25.50it/s]\n"
          ]
        },
        {
          "name": "stdout",
          "output_type": "stream",
          "text": [
            "CA rep: 0.7907969949371223\n",
            "logloss rep: 0.4775184486782564\n"
          ]
        },
        {
          "name": "stderr",
          "output_type": "stream",
          "text": [
            "100%|██████████| 5/5 [00:00<00:00, 24.92it/s]\n"
          ]
        },
        {
          "name": "stdout",
          "output_type": "stream",
          "text": [
            "CA rep: 0.7984484729707659\n",
            "logloss rep: 0.4733424134864184\n"
          ]
        },
        {
          "name": "stderr",
          "output_type": "stream",
          "text": [
            "100%|██████████| 5/5 [00:00<00:00, 25.52it/s]\n"
          ]
        },
        {
          "name": "stdout",
          "output_type": "stream",
          "text": [
            "CA rep: 0.7945778213294137\n",
            "logloss rep: 0.47829564403579095\n"
          ]
        },
        {
          "name": "stderr",
          "output_type": "stream",
          "text": [
            "100%|██████████| 5/5 [00:00<00:00, 25.19it/s]\n"
          ]
        },
        {
          "name": "stdout",
          "output_type": "stream",
          "text": [
            "CA rep: 0.794651314715009\n",
            "logloss rep: 0.4696452727322418\n"
          ]
        },
        {
          "name": "stderr",
          "output_type": "stream",
          "text": [
            "100%|██████████| 5/5 [00:00<00:00, 25.06it/s]\n"
          ]
        },
        {
          "name": "stdout",
          "output_type": "stream",
          "text": [
            "CA rep: 0.806206108116936\n",
            "logloss rep: 0.4707754836650471\n"
          ]
        },
        {
          "name": "stderr",
          "output_type": "stream",
          "text": [
            "100%|██████████| 5/5 [00:00<00:00, 16.23it/s]\n"
          ]
        },
        {
          "name": "stdout",
          "output_type": "stream",
          "text": [
            "CA rep: 0.8049077249714193\n",
            "logloss rep: 0.4699541783676347\n"
          ]
        },
        {
          "name": "stderr",
          "output_type": "stream",
          "text": [
            "100%|██████████| 5/5 [00:00<00:00, 24.67it/s]\n"
          ]
        },
        {
          "name": "stdout",
          "output_type": "stream",
          "text": [
            "CA rep: 0.7996815286624204\n",
            "logloss rep: 0.4685336962013283\n"
          ]
        },
        {
          "name": "stderr",
          "output_type": "stream",
          "text": [
            "100%|██████████| 5/5 [00:00<00:00, 25.29it/s]"
          ]
        },
        {
          "name": "stdout",
          "output_type": "stream",
          "text": [
            "CA rep: 0.8086232239098482\n",
            "logloss rep: 0.4615819177039369\n"
          ]
        },
        {
          "name": "stderr",
          "output_type": "stream",
          "text": [
            "\n"
          ]
        }
      ],
      "source": [
        "CA_SVM, logloss_SVM = cross_validate_SVM(X, y, svm, n_splits=5, reps = 10)"
      ]
    },
    {
      "cell_type": "code",
      "execution_count": 99,
      "metadata": {},
      "outputs": [
        {
          "name": "stdout",
          "output_type": "stream",
          "text": [
            "Mean accuracy: 0.800130654907725, SEM accuracy: 0.0019091157472501718\n",
            "Mean logloss: 0.47063076780938673, SEM logloss: 0.0015565672269352434\n"
          ]
        }
      ],
      "source": [
        "mean_CA_SVM = np.mean(CA_SVM)\n",
        "sem_CA_SVM = scipy.stats.sem(CA_SVM)\n",
        "mean_logloss_SVM = np.mean(logloss_SVM)\n",
        "sem_logloss_SVM = scipy.stats.sem(logloss_SVM)\n",
        "print(f\"Mean accuracy: {mean_CA_SVM}, SEM accuracy: {sem_CA_SVM}\")\n",
        "print(f\"Mean logloss: {mean_logloss_SVM}, SEM logloss: {sem_logloss_SVM}\")"
      ]
    },
    {
      "cell_type": "markdown",
      "metadata": {},
      "source": [
        "Results for SVM:\n",
        "- Mean accuracy: 0.800130654907725, SEM accuracy: 0.0019091157472501718\n",
        "- Mean logloss: 0.47063076780938673, SEM logloss: 0.0015565672269352434"
      ]
    },
    {
      "cell_type": "markdown",
      "metadata": {},
      "source": [
        "#### Majority classifier Baseline"
      ]
    },
    {
      "cell_type": "code",
      "execution_count": 103,
      "metadata": {
        "id": "uA7LC-RRFGwO"
      },
      "outputs": [
        {
          "data": {
            "text/plain": [
              "0.5880102040816326"
            ]
          },
          "execution_count": 103,
          "metadata": {},
          "output_type": "execute_result"
        }
      ],
      "source": [
        "#count positive and negative samples\n",
        "1 -y.mean()"
      ]
    },
    {
      "cell_type": "code",
      "execution_count": 104,
      "metadata": {},
      "outputs": [],
      "source": [
        "#cross validate majority class classifier\n",
        "def cross_validate_majority(X, y, n_splits=5, reps = 1):\n",
        "    scores_CA = []\n",
        "    scores_logloss = []\n",
        "\n",
        "    #split the data into n_splits\n",
        "    for rep in range(reps):\n",
        "        skf = StratifiedKFold(n_splits=n_splits, shuffle=True, random_state=rep+1)\n",
        "        ca_rep = []\n",
        "        logloss_rep = []\n",
        "        with tqdm.tqdm(total=n_splits) as pbar:\n",
        "            for train_index, test_index in skf.split(X, y):\n",
        "\n",
        "                X_train, X_test = X.iloc[train_index], X.iloc[test_index]\n",
        "                y_train, y_test = y.iloc[train_index], y.iloc[test_index]\n",
        "                #model.fit(X_train, y_train, callbacks=[WandbCallback()])\n",
        "                # scale the data\n",
        "                #scaler = StandardScaler()\n",
        "                #X_train = scaler.fit_transform(X_train)\n",
        "                #X_test = scaler.transform(X_test)\n",
        "                y_pred = np.zeros(len(y_test))\n",
        "                ca_rep.append(np.mean(accuracy_score(y_test, y_pred)))\n",
        "                logloss_rep.append(np.mean(log_loss(y_test, y_pred)))\n",
        "                pbar.update(1)\n",
        "            \n",
        "        print(f\"CA rep: {np.mean(ca_rep)}\")\n",
        "        print(f\"logloss rep: {np.mean(logloss_rep)}\")\n",
        "        scores_CA.append(np.mean(ca_rep))\n",
        "        scores_logloss.append(np.mean(logloss_rep))\n",
        "    \n",
        "\n",
        "    #wandb.finish()\n",
        "\n",
        "    return scores_CA, scores_logloss"
      ]
    },
    {
      "cell_type": "code",
      "execution_count": 105,
      "metadata": {},
      "outputs": [
        {
          "name": "stderr",
          "output_type": "stream",
          "text": [
            "100%|██████████| 5/5 [00:00<00:00, 357.21it/s]\n"
          ]
        },
        {
          "name": "stdout",
          "output_type": "stream",
          "text": [
            "CA rep: 0.5880124122162338\n",
            "logloss rep: 14.849537814696543\n"
          ]
        },
        {
          "name": "stderr",
          "output_type": "stream",
          "text": [
            "100%|██████████| 5/5 [00:00<00:00, 345.81it/s]\n"
          ]
        },
        {
          "name": "stdout",
          "output_type": "stream",
          "text": [
            "CA rep: 0.5880124122162338\n",
            "logloss rep: 14.849537814696543\n"
          ]
        },
        {
          "name": "stderr",
          "output_type": "stream",
          "text": [
            "100%|██████████| 5/5 [00:00<00:00, 345.51it/s]\n"
          ]
        },
        {
          "name": "stdout",
          "output_type": "stream",
          "text": [
            "CA rep: 0.5880124122162338\n",
            "logloss rep: 14.849537814696543\n"
          ]
        },
        {
          "name": "stderr",
          "output_type": "stream",
          "text": [
            "100%|██████████| 5/5 [00:00<00:00, 290.68it/s]\n"
          ]
        },
        {
          "name": "stdout",
          "output_type": "stream",
          "text": [
            "CA rep: 0.5880124122162338\n",
            "logloss rep: 14.849537814696543\n"
          ]
        },
        {
          "name": "stderr",
          "output_type": "stream",
          "text": [
            "100%|██████████| 5/5 [00:00<00:00, 212.00it/s]\n"
          ]
        },
        {
          "name": "stdout",
          "output_type": "stream",
          "text": [
            "CA rep: 0.5880124122162338\n",
            "logloss rep: 14.849537814696543\n"
          ]
        },
        {
          "name": "stderr",
          "output_type": "stream",
          "text": [
            "100%|██████████| 5/5 [00:00<00:00, 190.43it/s]\n"
          ]
        },
        {
          "name": "stdout",
          "output_type": "stream",
          "text": [
            "CA rep: 0.5880124122162338\n",
            "logloss rep: 14.849537814696543\n"
          ]
        },
        {
          "name": "stderr",
          "output_type": "stream",
          "text": [
            "100%|██████████| 5/5 [00:00<00:00, 168.92it/s]\n"
          ]
        },
        {
          "name": "stdout",
          "output_type": "stream",
          "text": [
            "CA rep: 0.5880124122162338\n",
            "logloss rep: 14.849537814696543\n"
          ]
        },
        {
          "name": "stderr",
          "output_type": "stream",
          "text": [
            "100%|██████████| 5/5 [00:00<00:00, 158.46it/s]\n"
          ]
        },
        {
          "name": "stdout",
          "output_type": "stream",
          "text": [
            "CA rep: 0.5880124122162338\n",
            "logloss rep: 14.849537814696543\n"
          ]
        },
        {
          "name": "stderr",
          "output_type": "stream",
          "text": [
            "100%|██████████| 5/5 [00:00<00:00, 186.56it/s]\n"
          ]
        },
        {
          "name": "stdout",
          "output_type": "stream",
          "text": [
            "CA rep: 0.5880124122162338\n",
            "logloss rep: 14.849537814696543\n"
          ]
        },
        {
          "name": "stderr",
          "output_type": "stream",
          "text": [
            "100%|██████████| 5/5 [00:00<00:00, 304.08it/s]"
          ]
        },
        {
          "name": "stdout",
          "output_type": "stream",
          "text": [
            "CA rep: 0.5880124122162338\n",
            "logloss rep: 14.849537814696543\n"
          ]
        },
        {
          "name": "stderr",
          "output_type": "stream",
          "text": [
            "\n"
          ]
        }
      ],
      "source": [
        "CA_majority, logloss_majority = cross_validate_majority(X, y, n_splits=5, reps = 10)"
      ]
    },
    {
      "cell_type": "code",
      "execution_count": 106,
      "metadata": {},
      "outputs": [
        {
          "name": "stdout",
          "output_type": "stream",
          "text": [
            "Mean accuracy: 0.5880124122162338, SEM accuracy: 0.0\n",
            "Mean logloss: 14.849537814696541, SEM logloss: 5.921189464667501e-16\n"
          ]
        }
      ],
      "source": [
        "mean_CA_majority = np.mean(CA_majority)\n",
        "sem_CA_majority = scipy.stats.sem(CA_majority)\n",
        "mean_logloss_majority = np.mean(logloss_majority)\n",
        "sem_logloss_majority = scipy.stats.sem(logloss_majority)\n",
        "print(f\"Mean accuracy: {mean_CA_majority}, SEM accuracy: {sem_CA_majority}\")\n",
        "print(f\"Mean logloss: {mean_logloss_majority}, SEM logloss: {sem_logloss_majority}\")\n"
      ]
    },
    {
      "cell_type": "markdown",
      "metadata": {},
      "source": [
        "With majority classifier we would classify each instance as not survived. \n",
        "\n",
        "Results for majority classifier:\n",
        "- Mean accuracy: 0.5880124122162338, SEM accuracy: 0.0\n",
        "- Mean logloss: 14.849537814696541, SEM logloss: 5.921189464667501e-16\n"
      ]
    }
  ],
  "metadata": {
    "colab": {
      "provenance": []
    },
    "kernelspec": {
      "display_name": "Python 3",
      "name": "python3"
    },
    "language_info": {
      "codemirror_mode": {
        "name": "ipython",
        "version": 3
      },
      "file_extension": ".py",
      "mimetype": "text/x-python",
      "name": "python",
      "nbconvert_exporter": "python",
      "pygments_lexer": "ipython3",
      "version": "3.9.9"
    }
  },
  "nbformat": 4,
  "nbformat_minor": 0
}
